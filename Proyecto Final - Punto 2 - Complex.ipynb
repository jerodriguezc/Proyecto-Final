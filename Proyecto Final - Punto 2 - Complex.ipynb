{
 "cells": [
  {
   "cell_type": "code",
   "execution_count": 1,
   "metadata": {
    "scrolled": true
   },
   "outputs": [
    {
     "name": "stderr",
     "output_type": "stream",
     "text": [
      "Using TensorFlow backend.\n"
     ]
    },
    {
     "name": "stdout",
     "output_type": "stream",
     "text": [
      "[nltk_data] Downloading package wordnet to\n",
      "[nltk_data]     /Users/germancarvajal/nltk_data...\n",
      "[nltk_data]   Package wordnet is already up-to-date!\n",
      "[nltk_data] Downloading package stopwords to\n",
      "[nltk_data]     /Users/germancarvajal/nltk_data...\n",
      "[nltk_data]   Package stopwords is already up-to-date!\n"
     ]
    }
   ],
   "source": [
    "import os\n",
    "import pandas as pd\n",
    "import numpy as np\n",
    "from time import time\n",
    "import matplotlib.pyplot as plt\n",
    "from sklearn.feature_extraction.text import CountVectorizer\n",
    "from sklearn.preprocessing import MultiLabelBinarizer\n",
    "from sklearn.metrics import roc_auc_score\n",
    "from sklearn.model_selection import cross_val_score, train_test_split,GridSearchCV,RandomizedSearchCV\n",
    "from keras.preprocessing.image import img_to_array, load_img, array_to_img\n",
    "from keras.applications.vgg16 import VGG16\n",
    "from nltk.stem import WordNetLemmatizer\n",
    "from nltk.corpus import stopwords\n",
    "import nltk\n",
    "import string\n",
    "import unidecode\n",
    "from keras.utils import plot_model\n",
    "from keras.models import Model\n",
    "from keras.layers import Input, Dense, Flatten,Dropout\n",
    "from keras.layers.convolutional import Conv2D\n",
    "from keras.layers.pooling import MaxPooling2D\n",
    "from keras.layers.merge import concatenate\n",
    "from livelossplot import PlotLossesKeras\n",
    "from keras.optimizers import Adam\n",
    "import tensorflow as tf\n",
    "nltk.download('wordnet')\n",
    "nltk.download('stopwords')\n",
    "%matplotlib inline\n",
    "path = os.getcwd()\n",
    "pathColor= '/Users/germancarvajal/Downloads'\n",
    "dataTraining = pd.read_csv(os.path.join(path, 'data', 'dataTraining.csv'), encoding='UTF-8', index_col=0)"
   ]
  },
  {
   "cell_type": "code",
   "execution_count": 2,
   "metadata": {},
   "outputs": [],
   "source": [
    "Gray_Img_size=(64,40) #Size of the gray images to import \n",
    "Color_Img_size=(256,160) #Size of the color images to import with multiples of 32\n",
    "words= 1000 #Number of text features to consider in the algorithm\n",
    "Validation_percent = 0.2 #Fraction of data used for validation\n",
    "Test_percent = 0.1 #Fraction of data used for test"
   ]
  },
  {
   "cell_type": "code",
   "execution_count": 3,
   "metadata": {},
   "outputs": [],
   "source": [
    "wordnet_lemmatizer = WordNetLemmatizer()\n",
    "def split_into_lemmas(text):\n",
    "    text = unidecode.unidecode(text.lower())\n",
    "    words = text.split()\n",
    "    nopunc = [char for char in words if char not in string.punctuation]\n",
    "    clean_mess = [word for word in nopunc if word not in stopwords.words('english')]\n",
    "    return [wordnet_lemmatizer.lemmatize(word).encode('ascii') for word in clean_mess]"
   ]
  },
  {
   "cell_type": "code",
   "execution_count": 4,
   "metadata": {},
   "outputs": [
    {
     "name": "stdout",
     "output_type": "stream",
     "text": [
      "('Text input size: ', (7895, 1000))\n",
      "('Labels input size: ', (7895, 24))\n"
     ]
    }
   ],
   "source": [
    "vect = CountVectorizer(ngram_range=(1, 2), max_features=words, analyzer=split_into_lemmas,binary=False)\n",
    "X_txt = vect.fit_transform(dataTraining['plot'])\n",
    "print('Text input size: ',X_txt.shape)\n",
    "mlb = MultiLabelBinarizer()\n",
    "Y = mlb.fit_transform(pd.Series(dataTraining['genres']).map(lambda x: eval(x)))\n",
    "print('Labels input size: ',Y.shape)"
   ]
  },
  {
   "cell_type": "code",
   "execution_count": 5,
   "metadata": {},
   "outputs": [
    {
     "name": "stdout",
     "output_type": "stream",
     "text": [
      "('Training data: ', 5526)\n",
      "('Validation data: ', 1579)\n",
      "('Test data: ', 790)\n"
     ]
    }
   ],
   "source": [
    "Index_total=range(dataTraining.shape[0])\n",
    "Index_int,Index_test=train_test_split(Index_total,test_size=Test_percent,random_state=123)\n",
    "Index_train,Index_validation=train_test_split(Index_int,test_size=Validation_percent/(1-Test_percent),random_state=123)\n",
    "del Index_int,Index_total\n",
    "print('Training data: ',len(Index_train))\n",
    "print('Validation data: ',len(Index_validation))\n",
    "print('Test data: ',len(Index_test))"
   ]
  },
  {
   "cell_type": "code",
   "execution_count": 171,
   "metadata": {},
   "outputs": [],
   "source": [
    "def modelGeneratorExample(iterableList,batch_size):\n",
    "    while True:\n",
    "        for j in range(-(-len(iterableList)/batch_size)):\n",
    "            otro = np.full(batch_size,np.nan)\n",
    "            x_gray = np.full((batch_size,Gray_Img_size[0],Gray_Img_size[1],1),np.nan)\n",
    "            x_color = np.full((batch_size,Color_Img_size[0],Color_Img_size[1],3),np.nan)\n",
    "            n=0\n",
    "            for i in iterableList[j*batch_size:min(j*batch_size+batch_size,len(iterableList))]:\n",
    "                img_g = load_img(os.path.join(path, 'images_resize_gray', str(dataTraining.index[i]) + '_resize_gray.jpeg'),target_size=Gray_Img_size,grayscale=True)\n",
    "                x_g = img_to_array(img_g)\n",
    "                x_g = x_g.reshape((1,) + x_g.shape)\n",
    "                img_c = load_img(os.path.join(pathColor, 'images', str(dataTraining.index[i]) + '.jpeg'),target_size=Color_Img_size,grayscale=False)\n",
    "                x_c = img_to_array(img_c)\n",
    "                x_c = x_c.reshape((1,) + x_c.shape)\n",
    "                x_gray[n]=x_g\n",
    "                x_color[n]=x_c\n",
    "                otro[n]=i\n",
    "                n=n+1\n",
    "            otro=otro[~np.isnan(otro)]\n",
    "            x_gray=x_gray[~np.isnan(x_gray).any(axis=(1,2,3))]\n",
    "            x_color=x_color[~np.isnan(x_color).any(axis=(1,2,3))]\n",
    "            yield otro,X_txt[j*batch_size:min(j*batch_size+batch_size,len(iterableList))].todense(),x_gray,x_color,Y[j*batch_size:min(j*batch_size+batch_size,len(iterableList))]"
   ]
  },
  {
   "cell_type": "code",
   "execution_count": 172,
   "metadata": {},
   "outputs": [],
   "source": [
    "h = modelGeneratorExample(range(5),2)"
   ]
  },
  {
   "cell_type": "code",
   "execution_count": 175,
   "metadata": {
    "scrolled": false
   },
   "outputs": [
    {
     "name": "stdout",
     "output_type": "stream",
     "text": [
      "[ 4.]\n",
      "(1, 1000)\n",
      "(1, 64, 40, 1)\n",
      "(1, 256, 160, 3)\n",
      "(1, 24)\n",
      "2582\n",
      "[array(['accidentally', 'angeles', 'attorney', 'chief', 'convince', 'date',\n",
      "       'discover', 'find', 'go', 'head', 'hide', 'house', 'however',\n",
      "       'information', 'kill', 'killer', 'know', 'lawyer', 'los', 'martin',\n",
      "       'meanwhile', 'michael', 'might', 'murder', 'murdered', 'office',\n",
      "       'pilot', 'powerful', 'robert', 'room', 'take', 'third', 'three',\n",
      "       'train', 'trying', 'witness'], \n",
      "      dtype='|S13')]\n",
      "[('Action', 'Crime', 'Thriller')]\n"
     ]
    },
    {
     "data": {
      "text/plain": [
       "<matplotlib.image.AxesImage at 0x1a381f2a50>"
      ]
     },
     "execution_count": 175,
     "metadata": {},
     "output_type": "execute_result"
    },
    {
     "data": {
      "image/png": "[encoded data removed]",
      "text/plain": [
       "<Figure size 360x720 with 2 Axes>"
      ]
     },
     "metadata": {},
     "output_type": "display_data"
    }
   ],
   "source": [
    "o,t,g,c,l=h.next()\n",
    "print(o)\n",
    "print(dataTraining.index[int(o[0])])\n",
    "print(vect.inverse_transform(t[0]))\n",
    "print(mlb.inverse_transform(l[0].reshape(1,-1)))\n",
    "plt.figure(1,figsize=(5,10))\n",
    "plt.subplot(121)\n",
    "plt.imshow(array_to_img(g[0]))\n",
    "plt.subplot(122)\n",
    "plt.imshow(array_to_img(c[0]))"
   ]
  },
  {
   "cell_type": "code",
   "execution_count": 9,
   "metadata": {},
   "outputs": [],
   "source": [
    "model_vgg16 = VGG16(include_top=False, weights='imagenet')\n",
    "global graph\n",
    "graph = tf.get_default_graph()"
   ]
  },
  {
   "cell_type": "code",
   "execution_count": 200,
   "metadata": {},
   "outputs": [],
   "source": [
    "def modelGenerator(iterableList,batch_size):\n",
    "    while True:\n",
    "        for j in range(-(-len(iterableList)/batch_size)):\n",
    "            x_gray = np.full((batch_size,Gray_Img_size[0],Gray_Img_size[1],1),np.nan)\n",
    "            x_color = np.full((batch_size,Color_Img_size[0]/32,Color_Img_size[1]/32,512),np.nan)\n",
    "            n=0\n",
    "            for i in iterableList[j*batch_size:min(j*batch_size+batch_size,len(iterableList))]:\n",
    "                img_g = load_img(os.path.join(path, 'images_resize_gray', str(dataTraining.index[i]) + '_resize_gray.jpeg'),target_size=Gray_Img_size,grayscale=True)\n",
    "                x_g = img_to_array(img_g)\n",
    "                x_g = x_g.reshape((1,) + x_g.shape)\n",
    "                img_c = load_img(os.path.join(pathColor, 'images', str(dataTraining.index[i]) + '.jpeg'),target_size=Color_Img_size,grayscale=False)\n",
    "                x_c = img_to_array(img_c)\n",
    "                x_c = x_c.reshape((1,) + x_c.shape)\n",
    "                with graph.as_default():\n",
    "                    x_vgg = model_vgg16.predict(x_c)\n",
    "                x_gray[n]=x_g\n",
    "                x_color[n]=x_vgg\n",
    "                n=n+1\n",
    "            x_gray=x_gray[~np.isnan(x_gray).any(axis=(1,2,3))]\n",
    "            x_color=x_color[~np.isnan(x_color).any(axis=(1,2,3))]\n",
    "            yield [X_txt[j*batch_size:min(j*batch_size+batch_size,len(iterableList))].todense(),x_gray,x_color],Y[j*batch_size:min(j*batch_size+batch_size,len(iterableList))]"
   ]
  },
  {
   "cell_type": "code",
   "execution_count": 14,
   "metadata": {},
   "outputs": [
    {
     "name": "stdout",
     "output_type": "stream",
     "text": [
      "__________________________________________________________________________________________________\n",
      "Layer (type)                    Output Shape         Param #     Connected to                     \n",
      "==================================================================================================\n",
      "Gray_Image (InputLayer)         (None, 64, 40, 1)    0                                            \n",
      "__________________________________________________________________________________________________\n",
      "conv2d_3 (Conv2D)               (None, 61, 37, 16)   272         Gray_Image[0][0]                 \n",
      "__________________________________________________________________________________________________\n",
      "max_pooling2d_3 (MaxPooling2D)  (None, 15, 9, 16)    0           conv2d_3[0][0]                   \n",
      "__________________________________________________________________________________________________\n",
      "VGG16 (InputLayer)              (None, 8, 5, 512)    0                                            \n",
      "__________________________________________________________________________________________________\n",
      "Text (InputLayer)               (None, 1000)         0                                            \n",
      "__________________________________________________________________________________________________\n",
      "flatten_5 (Flatten)             (None, 2160)         0           max_pooling2d_3[0][0]            \n",
      "__________________________________________________________________________________________________\n",
      "flatten_6 (Flatten)             (None, 20480)        0           VGG16[0][0]                      \n",
      "__________________________________________________________________________________________________\n",
      "dense_10 (Dense)                (None, 128)          128128      Text[0][0]                       \n",
      "__________________________________________________________________________________________________\n",
      "dense_11 (Dense)                (None, 32)           69152       flatten_5[0][0]                  \n",
      "__________________________________________________________________________________________________\n",
      "dense_12 (Dense)                (None, 128)          2621568     flatten_6[0][0]                  \n",
      "__________________________________________________________________________________________________\n",
      "concatenate_3 (Concatenate)     (None, 288)          0           dense_10[0][0]                   \n",
      "                                                                 dense_11[0][0]                   \n",
      "                                                                 dense_12[0][0]                   \n",
      "__________________________________________________________________________________________________\n",
      "dense_13 (Dense)                (None, 64)           18496       concatenate_3[0][0]              \n",
      "__________________________________________________________________________________________________\n",
      "dropout_3 (Dropout)             (None, 64)           0           dense_13[0][0]                   \n",
      "__________________________________________________________________________________________________\n",
      "dense_14 (Dense)                (None, 24)           1560        dropout_3[0][0]                  \n",
      "==================================================================================================\n",
      "Total params: 2,839,176\n",
      "Trainable params: 2,839,176\n",
      "Non-trainable params: 0\n",
      "__________________________________________________________________________________________________\n"
     ]
    }
   ],
   "source": [
    "Text=Input(shape=(min(words,X_txt.shape[1]),),name='Text')\n",
    "T1=Dense(128,activation='relu')(Text)\n",
    "\n",
    "GrayImage = Input(shape=(Gray_Img_size[0],Gray_Img_size[1],1),name='Gray_Image')\n",
    "cG1 = Conv2D(16, kernel_size=4, activation='relu')(GrayImage)\n",
    "pG1 = MaxPooling2D(pool_size=(4, 4))(cG1)\n",
    "flatG = Flatten()(pG1)\n",
    "G1=Dense(32,activation='relu')(flatG)\n",
    "\n",
    "VGG_out = Input(shape=(Color_Img_size[0]/32,Color_Img_size[1]/32,512),name='VGG16')\n",
    "flatVGG = Flatten()(VGG_out)\n",
    "C1 = Dense(128, activation='relu')(flatVGG)\n",
    "\n",
    "merge = concatenate([T1, G1, C1])\n",
    "\n",
    "hidden = Dense(64, activation = 'relu')(merge)\n",
    "Drop = Dropout(0.5)(hidden)\n",
    "output = Dense(Y.shape[1], activation='sigmoid')(Drop)\n",
    "\n",
    "model = Model(inputs=[Text, GrayImage, VGG_out], outputs=output)\n",
    "model.summary()"
   ]
  },
  {
   "cell_type": "code",
   "execution_count": 15,
   "metadata": {},
   "outputs": [
    {
     "data": {
      "image/svg+xml": [
       "<svg height=\"719pt\" viewBox=\"0.00 0.00 741.00 719.00\" width=\"741pt\" xmlns=\"http://www.w3.org/2000/svg\" xmlns:xlink=\"http://www.w3.org/1999/xlink\">\n",
       "<g class=\"graph\" id=\"graph0\" transform=\"scale(1 1) rotate(0) translate(4 715)\">\n",
       "<title>G</title>\n",
       "<polygon fill=\"#ffffff\" points=\"-4,4 -4,-715 737,-715 737,4 -4,4\" stroke=\"transparent\"/>\n",
       "<!-- 112467836432 -->\n",
       "<g class=\"node\" id=\"node1\">\n",
       "<title>112467836432</title>\n",
       "<polygon fill=\"none\" points=\"23.5,-664.5 23.5,-710.5 278.5,-710.5 278.5,-664.5 23.5,-664.5\" stroke=\"#000000\"/>\n",
       "<text fill=\"#000000\" font-family=\"Times,serif\" font-size=\"14.00\" text-anchor=\"middle\" x=\"84\" y=\"-683.8\">Gray_Image: InputLayer</text>\n",
       "<polyline fill=\"none\" points=\"144.5,-664.5 144.5,-710.5 \" stroke=\"#000000\"/>\n",
       "<text fill=\"#000000\" font-family=\"Times,serif\" font-size=\"14.00\" text-anchor=\"middle\" x=\"167.5\" y=\"-695.3\">input:</text>\n",
       "<polyline fill=\"none\" points=\"144.5,-687.5 190.5,-687.5 \" stroke=\"#000000\"/>\n",
       "<text fill=\"#000000\" font-family=\"Times,serif\" font-size=\"14.00\" text-anchor=\"middle\" x=\"167.5\" y=\"-672.3\">output:</text>\n",
       "<polyline fill=\"none\" points=\"190.5,-664.5 190.5,-710.5 \" stroke=\"#000000\"/>\n",
       "<text fill=\"#000000\" font-family=\"Times,serif\" font-size=\"14.00\" text-anchor=\"middle\" x=\"234.5\" y=\"-695.3\">(None, 64, 40, 1)</text>\n",
       "<polyline fill=\"none\" points=\"190.5,-687.5 278.5,-687.5 \" stroke=\"#000000\"/>\n",
       "<text fill=\"#000000\" font-family=\"Times,serif\" font-size=\"14.00\" text-anchor=\"middle\" x=\"234.5\" y=\"-672.3\">(None, 64, 40, 1)</text>\n",
       "</g>\n",
       "<!-- 112467836304 -->\n",
       "<g class=\"node\" id=\"node2\">\n",
       "<title>112467836304</title>\n",
       "<polygon fill=\"none\" points=\"32,-581.5 32,-627.5 270,-627.5 270,-581.5 32,-581.5\" stroke=\"#000000\"/>\n",
       "<text fill=\"#000000\" font-family=\"Times,serif\" font-size=\"14.00\" text-anchor=\"middle\" x=\"81.5\" y=\"-600.8\">conv2d_3: Conv2D</text>\n",
       "<polyline fill=\"none\" points=\"131,-581.5 131,-627.5 \" stroke=\"#000000\"/>\n",
       "<text fill=\"#000000\" font-family=\"Times,serif\" font-size=\"14.00\" text-anchor=\"middle\" x=\"154\" y=\"-612.3\">input:</text>\n",
       "<polyline fill=\"none\" points=\"131,-604.5 177,-604.5 \" stroke=\"#000000\"/>\n",
       "<text fill=\"#000000\" font-family=\"Times,serif\" font-size=\"14.00\" text-anchor=\"middle\" x=\"154\" y=\"-589.3\">output:</text>\n",
       "<polyline fill=\"none\" points=\"177,-581.5 177,-627.5 \" stroke=\"#000000\"/>\n",
       "<text fill=\"#000000\" font-family=\"Times,serif\" font-size=\"14.00\" text-anchor=\"middle\" x=\"223.5\" y=\"-612.3\">(None, 64, 40, 1)</text>\n",
       "<polyline fill=\"none\" points=\"177,-604.5 270,-604.5 \" stroke=\"#000000\"/>\n",
       "<text fill=\"#000000\" font-family=\"Times,serif\" font-size=\"14.00\" text-anchor=\"middle\" x=\"223.5\" y=\"-589.3\">(None, 61, 37, 16)</text>\n",
       "</g>\n",
       "<!-- 112467836432&#45;&gt;112467836304 -->\n",
       "<g class=\"edge\" id=\"edge1\">\n",
       "<title>112467836432-&gt;112467836304</title>\n",
       "<path d=\"M151,-664.3799C151,-656.1745 151,-646.7679 151,-637.8786\" fill=\"none\" stroke=\"#000000\"/>\n",
       "<polygon fill=\"#000000\" points=\"154.5001,-637.784 151,-627.784 147.5001,-637.784 154.5001,-637.784\" stroke=\"#000000\"/>\n",
       "</g>\n",
       "<!-- 112464008976 -->\n",
       "<g class=\"node\" id=\"node3\">\n",
       "<title>112464008976</title>\n",
       "<polygon fill=\"none\" points=\"0,-498.5 0,-544.5 302,-544.5 302,-498.5 0,-498.5\" stroke=\"#000000\"/>\n",
       "<text fill=\"#000000\" font-family=\"Times,serif\" font-size=\"14.00\" text-anchor=\"middle\" x=\"81.5\" y=\"-517.8\">max_pooling2d_3: MaxPooling2D</text>\n",
       "<polyline fill=\"none\" points=\"163,-498.5 163,-544.5 \" stroke=\"#000000\"/>\n",
       "<text fill=\"#000000\" font-family=\"Times,serif\" font-size=\"14.00\" text-anchor=\"middle\" x=\"186\" y=\"-529.3\">input:</text>\n",
       "<polyline fill=\"none\" points=\"163,-521.5 209,-521.5 \" stroke=\"#000000\"/>\n",
       "<text fill=\"#000000\" font-family=\"Times,serif\" font-size=\"14.00\" text-anchor=\"middle\" x=\"186\" y=\"-506.3\">output:</text>\n",
       "<polyline fill=\"none\" points=\"209,-498.5 209,-544.5 \" stroke=\"#000000\"/>\n",
       "<text fill=\"#000000\" font-family=\"Times,serif\" font-size=\"14.00\" text-anchor=\"middle\" x=\"255.5\" y=\"-529.3\">(None, 61, 37, 16)</text>\n",
       "<polyline fill=\"none\" points=\"209,-521.5 302,-521.5 \" stroke=\"#000000\"/>\n",
       "<text fill=\"#000000\" font-family=\"Times,serif\" font-size=\"14.00\" text-anchor=\"middle\" x=\"255.5\" y=\"-506.3\">(None, 15, 9, 16)</text>\n",
       "</g>\n",
       "<!-- 112467836304&#45;&gt;112464008976 -->\n",
       "<g class=\"edge\" id=\"edge2\">\n",
       "<title>112467836304-&gt;112464008976</title>\n",
       "<path d=\"M151,-581.3799C151,-573.1745 151,-563.7679 151,-554.8786\" fill=\"none\" stroke=\"#000000\"/>\n",
       "<polygon fill=\"#000000\" points=\"154.5001,-554.784 151,-544.784 147.5001,-554.784 154.5001,-554.784\" stroke=\"#000000\"/>\n",
       "</g>\n",
       "<!-- 112460254672 -->\n",
       "<g class=\"node\" id=\"node6\">\n",
       "<title>112460254672</title>\n",
       "<polygon fill=\"none\" points=\"40,-415.5 40,-461.5 262,-461.5 262,-415.5 40,-415.5\" stroke=\"#000000\"/>\n",
       "<text fill=\"#000000\" font-family=\"Times,serif\" font-size=\"14.00\" text-anchor=\"middle\" x=\"84\" y=\"-434.8\">flatten_5: Flatten</text>\n",
       "<polyline fill=\"none\" points=\"128,-415.5 128,-461.5 \" stroke=\"#000000\"/>\n",
       "<text fill=\"#000000\" font-family=\"Times,serif\" font-size=\"14.00\" text-anchor=\"middle\" x=\"151\" y=\"-446.3\">input:</text>\n",
       "<polyline fill=\"none\" points=\"128,-438.5 174,-438.5 \" stroke=\"#000000\"/>\n",
       "<text fill=\"#000000\" font-family=\"Times,serif\" font-size=\"14.00\" text-anchor=\"middle\" x=\"151\" y=\"-423.3\">output:</text>\n",
       "<polyline fill=\"none\" points=\"174,-415.5 174,-461.5 \" stroke=\"#000000\"/>\n",
       "<text fill=\"#000000\" font-family=\"Times,serif\" font-size=\"14.00\" text-anchor=\"middle\" x=\"218\" y=\"-446.3\">(None, 15, 9, 16)</text>\n",
       "<polyline fill=\"none\" points=\"174,-438.5 262,-438.5 \" stroke=\"#000000\"/>\n",
       "<text fill=\"#000000\" font-family=\"Times,serif\" font-size=\"14.00\" text-anchor=\"middle\" x=\"218\" y=\"-423.3\">(None, 2160)</text>\n",
       "</g>\n",
       "<!-- 112464008976&#45;&gt;112460254672 -->\n",
       "<g class=\"edge\" id=\"edge3\">\n",
       "<title>112464008976-&gt;112460254672</title>\n",
       "<path d=\"M151,-498.3799C151,-490.1745 151,-480.7679 151,-471.8786\" fill=\"none\" stroke=\"#000000\"/>\n",
       "<polygon fill=\"#000000\" points=\"154.5001,-471.784 151,-461.784 147.5001,-471.784 154.5001,-471.784\" stroke=\"#000000\"/>\n",
       "</g>\n",
       "<!-- 112464010640 -->\n",
       "<g class=\"node\" id=\"node4\">\n",
       "<title>112464010640</title>\n",
       "<polygon fill=\"none\" points=\"497,-498.5 497,-544.5 733,-544.5 733,-498.5 497,-498.5\" stroke=\"#000000\"/>\n",
       "<text fill=\"#000000\" font-family=\"Times,serif\" font-size=\"14.00\" text-anchor=\"middle\" x=\"548\" y=\"-517.8\">VGG16: InputLayer</text>\n",
       "<polyline fill=\"none\" points=\"599,-498.5 599,-544.5 \" stroke=\"#000000\"/>\n",
       "<text fill=\"#000000\" font-family=\"Times,serif\" font-size=\"14.00\" text-anchor=\"middle\" x=\"622\" y=\"-529.3\">input:</text>\n",
       "<polyline fill=\"none\" points=\"599,-521.5 645,-521.5 \" stroke=\"#000000\"/>\n",
       "<text fill=\"#000000\" font-family=\"Times,serif\" font-size=\"14.00\" text-anchor=\"middle\" x=\"622\" y=\"-506.3\">output:</text>\n",
       "<polyline fill=\"none\" points=\"645,-498.5 645,-544.5 \" stroke=\"#000000\"/>\n",
       "<text fill=\"#000000\" font-family=\"Times,serif\" font-size=\"14.00\" text-anchor=\"middle\" x=\"689\" y=\"-529.3\">(None, 8, 5, 512)</text>\n",
       "<polyline fill=\"none\" points=\"645,-521.5 733,-521.5 \" stroke=\"#000000\"/>\n",
       "<text fill=\"#000000\" font-family=\"Times,serif\" font-size=\"14.00\" text-anchor=\"middle\" x=\"689\" y=\"-506.3\">(None, 8, 5, 512)</text>\n",
       "</g>\n",
       "<!-- 112464301840 -->\n",
       "<g class=\"node\" id=\"node7\">\n",
       "<title>112464301840</title>\n",
       "<polygon fill=\"none\" points=\"504,-415.5 504,-461.5 726,-461.5 726,-415.5 504,-415.5\" stroke=\"#000000\"/>\n",
       "<text fill=\"#000000\" font-family=\"Times,serif\" font-size=\"14.00\" text-anchor=\"middle\" x=\"548\" y=\"-434.8\">flatten_6: Flatten</text>\n",
       "<polyline fill=\"none\" points=\"592,-415.5 592,-461.5 \" stroke=\"#000000\"/>\n",
       "<text fill=\"#000000\" font-family=\"Times,serif\" font-size=\"14.00\" text-anchor=\"middle\" x=\"615\" y=\"-446.3\">input:</text>\n",
       "<polyline fill=\"none\" points=\"592,-438.5 638,-438.5 \" stroke=\"#000000\"/>\n",
       "<text fill=\"#000000\" font-family=\"Times,serif\" font-size=\"14.00\" text-anchor=\"middle\" x=\"615\" y=\"-423.3\">output:</text>\n",
       "<polyline fill=\"none\" points=\"638,-415.5 638,-461.5 \" stroke=\"#000000\"/>\n",
       "<text fill=\"#000000\" font-family=\"Times,serif\" font-size=\"14.00\" text-anchor=\"middle\" x=\"682\" y=\"-446.3\">(None, 8, 5, 512)</text>\n",
       "<polyline fill=\"none\" points=\"638,-438.5 726,-438.5 \" stroke=\"#000000\"/>\n",
       "<text fill=\"#000000\" font-family=\"Times,serif\" font-size=\"14.00\" text-anchor=\"middle\" x=\"682\" y=\"-423.3\">(None, 20480)</text>\n",
       "</g>\n",
       "<!-- 112464010640&#45;&gt;112464301840 -->\n",
       "<g class=\"edge\" id=\"edge4\">\n",
       "<title>112464010640-&gt;112464301840</title>\n",
       "<path d=\"M615,-498.3799C615,-490.1745 615,-480.7679 615,-471.8786\" fill=\"none\" stroke=\"#000000\"/>\n",
       "<polygon fill=\"#000000\" points=\"618.5001,-471.784 615,-461.784 611.5001,-471.784 618.5001,-471.784\" stroke=\"#000000\"/>\n",
       "</g>\n",
       "<!-- 112467835792 -->\n",
       "<g class=\"node\" id=\"node5\">\n",
       "<title>112467835792</title>\n",
       "<polygon fill=\"none\" points=\"280,-415.5 280,-461.5 486,-461.5 486,-415.5 280,-415.5\" stroke=\"#000000\"/>\n",
       "<text fill=\"#000000\" font-family=\"Times,serif\" font-size=\"14.00\" text-anchor=\"middle\" x=\"324\" y=\"-434.8\">Text: InputLayer</text>\n",
       "<polyline fill=\"none\" points=\"368,-415.5 368,-461.5 \" stroke=\"#000000\"/>\n",
       "<text fill=\"#000000\" font-family=\"Times,serif\" font-size=\"14.00\" text-anchor=\"middle\" x=\"391\" y=\"-446.3\">input:</text>\n",
       "<polyline fill=\"none\" points=\"368,-438.5 414,-438.5 \" stroke=\"#000000\"/>\n",
       "<text fill=\"#000000\" font-family=\"Times,serif\" font-size=\"14.00\" text-anchor=\"middle\" x=\"391\" y=\"-423.3\">output:</text>\n",
       "<polyline fill=\"none\" points=\"414,-415.5 414,-461.5 \" stroke=\"#000000\"/>\n",
       "<text fill=\"#000000\" font-family=\"Times,serif\" font-size=\"14.00\" text-anchor=\"middle\" x=\"450\" y=\"-446.3\">(None, 1000)</text>\n",
       "<polyline fill=\"none\" points=\"414,-438.5 486,-438.5 \" stroke=\"#000000\"/>\n",
       "<text fill=\"#000000\" font-family=\"Times,serif\" font-size=\"14.00\" text-anchor=\"middle\" x=\"450\" y=\"-423.3\">(None, 1000)</text>\n",
       "</g>\n",
       "<!-- 112467835728 -->\n",
       "<g class=\"node\" id=\"node8\">\n",
       "<title>112467835728</title>\n",
       "<polygon fill=\"none\" points=\"280,-332.5 280,-378.5 486,-378.5 486,-332.5 280,-332.5\" stroke=\"#000000\"/>\n",
       "<text fill=\"#000000\" font-family=\"Times,serif\" font-size=\"14.00\" text-anchor=\"middle\" x=\"324\" y=\"-351.8\">dense_10: Dense</text>\n",
       "<polyline fill=\"none\" points=\"368,-332.5 368,-378.5 \" stroke=\"#000000\"/>\n",
       "<text fill=\"#000000\" font-family=\"Times,serif\" font-size=\"14.00\" text-anchor=\"middle\" x=\"391\" y=\"-363.3\">input:</text>\n",
       "<polyline fill=\"none\" points=\"368,-355.5 414,-355.5 \" stroke=\"#000000\"/>\n",
       "<text fill=\"#000000\" font-family=\"Times,serif\" font-size=\"14.00\" text-anchor=\"middle\" x=\"391\" y=\"-340.3\">output:</text>\n",
       "<polyline fill=\"none\" points=\"414,-332.5 414,-378.5 \" stroke=\"#000000\"/>\n",
       "<text fill=\"#000000\" font-family=\"Times,serif\" font-size=\"14.00\" text-anchor=\"middle\" x=\"450\" y=\"-363.3\">(None, 1000)</text>\n",
       "<polyline fill=\"none\" points=\"414,-355.5 486,-355.5 \" stroke=\"#000000\"/>\n",
       "<text fill=\"#000000\" font-family=\"Times,serif\" font-size=\"14.00\" text-anchor=\"middle\" x=\"450\" y=\"-340.3\">(None, 128)</text>\n",
       "</g>\n",
       "<!-- 112467835792&#45;&gt;112467835728 -->\n",
       "<g class=\"edge\" id=\"edge5\">\n",
       "<title>112467835792-&gt;112467835728</title>\n",
       "<path d=\"M383,-415.3799C383,-407.1745 383,-397.7679 383,-388.8786\" fill=\"none\" stroke=\"#000000\"/>\n",
       "<polygon fill=\"#000000\" points=\"386.5001,-388.784 383,-378.784 379.5001,-388.784 386.5001,-388.784\" stroke=\"#000000\"/>\n",
       "</g>\n",
       "<!-- 112464009232 -->\n",
       "<g class=\"node\" id=\"node9\">\n",
       "<title>112464009232</title>\n",
       "<polygon fill=\"none\" points=\"52,-332.5 52,-378.5 258,-378.5 258,-332.5 52,-332.5\" stroke=\"#000000\"/>\n",
       "<text fill=\"#000000\" font-family=\"Times,serif\" font-size=\"14.00\" text-anchor=\"middle\" x=\"96\" y=\"-351.8\">dense_11: Dense</text>\n",
       "<polyline fill=\"none\" points=\"140,-332.5 140,-378.5 \" stroke=\"#000000\"/>\n",
       "<text fill=\"#000000\" font-family=\"Times,serif\" font-size=\"14.00\" text-anchor=\"middle\" x=\"163\" y=\"-363.3\">input:</text>\n",
       "<polyline fill=\"none\" points=\"140,-355.5 186,-355.5 \" stroke=\"#000000\"/>\n",
       "<text fill=\"#000000\" font-family=\"Times,serif\" font-size=\"14.00\" text-anchor=\"middle\" x=\"163\" y=\"-340.3\">output:</text>\n",
       "<polyline fill=\"none\" points=\"186,-332.5 186,-378.5 \" stroke=\"#000000\"/>\n",
       "<text fill=\"#000000\" font-family=\"Times,serif\" font-size=\"14.00\" text-anchor=\"middle\" x=\"222\" y=\"-363.3\">(None, 2160)</text>\n",
       "<polyline fill=\"none\" points=\"186,-355.5 258,-355.5 \" stroke=\"#000000\"/>\n",
       "<text fill=\"#000000\" font-family=\"Times,serif\" font-size=\"14.00\" text-anchor=\"middle\" x=\"222\" y=\"-340.3\">(None, 32)</text>\n",
       "</g>\n",
       "<!-- 112460254672&#45;&gt;112464009232 -->\n",
       "<g class=\"edge\" id=\"edge6\">\n",
       "<title>112460254672-&gt;112464009232</title>\n",
       "<path d=\"M152.1142,-415.3799C152.5097,-407.1745 152.963,-397.7679 153.3914,-388.8786\" fill=\"none\" stroke=\"#000000\"/>\n",
       "<polygon fill=\"#000000\" points=\"156.8924,-388.9409 153.8779,-378.784 149.9005,-388.6039 156.8924,-388.9409\" stroke=\"#000000\"/>\n",
       "</g>\n",
       "<!-- 112464219344 -->\n",
       "<g class=\"node\" id=\"node10\">\n",
       "<title>112464219344</title>\n",
       "<polygon fill=\"none\" points=\"506,-332.5 506,-378.5 718,-378.5 718,-332.5 506,-332.5\" stroke=\"#000000\"/>\n",
       "<text fill=\"#000000\" font-family=\"Times,serif\" font-size=\"14.00\" text-anchor=\"middle\" x=\"550\" y=\"-351.8\">dense_12: Dense</text>\n",
       "<polyline fill=\"none\" points=\"594,-332.5 594,-378.5 \" stroke=\"#000000\"/>\n",
       "<text fill=\"#000000\" font-family=\"Times,serif\" font-size=\"14.00\" text-anchor=\"middle\" x=\"617\" y=\"-363.3\">input:</text>\n",
       "<polyline fill=\"none\" points=\"594,-355.5 640,-355.5 \" stroke=\"#000000\"/>\n",
       "<text fill=\"#000000\" font-family=\"Times,serif\" font-size=\"14.00\" text-anchor=\"middle\" x=\"617\" y=\"-340.3\">output:</text>\n",
       "<polyline fill=\"none\" points=\"640,-332.5 640,-378.5 \" stroke=\"#000000\"/>\n",
       "<text fill=\"#000000\" font-family=\"Times,serif\" font-size=\"14.00\" text-anchor=\"middle\" x=\"679\" y=\"-363.3\">(None, 20480)</text>\n",
       "<polyline fill=\"none\" points=\"640,-355.5 718,-355.5 \" stroke=\"#000000\"/>\n",
       "<text fill=\"#000000\" font-family=\"Times,serif\" font-size=\"14.00\" text-anchor=\"middle\" x=\"679\" y=\"-340.3\">(None, 128)</text>\n",
       "</g>\n",
       "<!-- 112464301840&#45;&gt;112464219344 -->\n",
       "<g class=\"edge\" id=\"edge7\">\n",
       "<title>112464301840-&gt;112464219344</title>\n",
       "<path d=\"M614.1643,-415.3799C613.8678,-407.1745 613.5278,-397.7679 613.2065,-388.8786\" fill=\"none\" stroke=\"#000000\"/>\n",
       "<polygon fill=\"#000000\" points=\"616.7006,-388.651 612.8416,-378.784 609.7052,-388.9039 616.7006,-388.651\" stroke=\"#000000\"/>\n",
       "</g>\n",
       "<!-- 112464218896 -->\n",
       "<g class=\"node\" id=\"node11\">\n",
       "<title>112464218896</title>\n",
       "<polygon fill=\"none\" points=\"202.5,-249.5 202.5,-295.5 563.5,-295.5 563.5,-249.5 202.5,-249.5\" stroke=\"#000000\"/>\n",
       "<text fill=\"#000000\" font-family=\"Times,serif\" font-size=\"14.00\" text-anchor=\"middle\" x=\"269.5\" y=\"-268.8\">concatenate_3: Concatenate</text>\n",
       "<polyline fill=\"none\" points=\"336.5,-249.5 336.5,-295.5 \" stroke=\"#000000\"/>\n",
       "<text fill=\"#000000\" font-family=\"Times,serif\" font-size=\"14.00\" text-anchor=\"middle\" x=\"359.5\" y=\"-280.3\">input:</text>\n",
       "<polyline fill=\"none\" points=\"336.5,-272.5 382.5,-272.5 \" stroke=\"#000000\"/>\n",
       "<text fill=\"#000000\" font-family=\"Times,serif\" font-size=\"14.00\" text-anchor=\"middle\" x=\"359.5\" y=\"-257.3\">output:</text>\n",
       "<polyline fill=\"none\" points=\"382.5,-249.5 382.5,-295.5 \" stroke=\"#000000\"/>\n",
       "<text fill=\"#000000\" font-family=\"Times,serif\" font-size=\"14.00\" text-anchor=\"middle\" x=\"473\" y=\"-280.3\">[(None, 128), (None, 32), (None, 128)]</text>\n",
       "<polyline fill=\"none\" points=\"382.5,-272.5 563.5,-272.5 \" stroke=\"#000000\"/>\n",
       "<text fill=\"#000000\" font-family=\"Times,serif\" font-size=\"14.00\" text-anchor=\"middle\" x=\"473\" y=\"-257.3\">(None, 288)</text>\n",
       "</g>\n",
       "<!-- 112467835728&#45;&gt;112464218896 -->\n",
       "<g class=\"edge\" id=\"edge8\">\n",
       "<title>112467835728-&gt;112464218896</title>\n",
       "<path d=\"M383,-332.3799C383,-324.1745 383,-314.7679 383,-305.8786\" fill=\"none\" stroke=\"#000000\"/>\n",
       "<polygon fill=\"#000000\" points=\"386.5001,-305.784 383,-295.784 379.5001,-305.784 386.5001,-305.784\" stroke=\"#000000\"/>\n",
       "</g>\n",
       "<!-- 112464009232&#45;&gt;112464218896 -->\n",
       "<g class=\"edge\" id=\"edge9\">\n",
       "<title>112464009232-&gt;112464218896</title>\n",
       "<path d=\"M218.2079,-332.4901C246.7483,-322.1004 280.6274,-309.7672 310.2229,-298.9934\" fill=\"none\" stroke=\"#000000\"/>\n",
       "<polygon fill=\"#000000\" points=\"311.4697,-302.2643 319.6691,-295.5547 309.0751,-295.6866 311.4697,-302.2643\" stroke=\"#000000\"/>\n",
       "</g>\n",
       "<!-- 112464219344&#45;&gt;112464218896 -->\n",
       "<g class=\"edge\" id=\"edge10\">\n",
       "<title>112464219344-&gt;112464218896</title>\n",
       "<path d=\"M548.5148,-332.4901C519.8493,-322.1004 485.8216,-309.7672 456.0963,-298.9934\" fill=\"none\" stroke=\"#000000\"/>\n",
       "<polygon fill=\"#000000\" points=\"457.2028,-295.6717 446.6087,-295.5547 454.8175,-302.2528 457.2028,-295.6717\" stroke=\"#000000\"/>\n",
       "</g>\n",
       "<!-- 112467664592 -->\n",
       "<g class=\"node\" id=\"node12\">\n",
       "<title>112467664592</title>\n",
       "<polygon fill=\"none\" points=\"282.5,-166.5 282.5,-212.5 483.5,-212.5 483.5,-166.5 282.5,-166.5\" stroke=\"#000000\"/>\n",
       "<text fill=\"#000000\" font-family=\"Times,serif\" font-size=\"14.00\" text-anchor=\"middle\" x=\"326.5\" y=\"-185.8\">dense_13: Dense</text>\n",
       "<polyline fill=\"none\" points=\"370.5,-166.5 370.5,-212.5 \" stroke=\"#000000\"/>\n",
       "<text fill=\"#000000\" font-family=\"Times,serif\" font-size=\"14.00\" text-anchor=\"middle\" x=\"393.5\" y=\"-197.3\">input:</text>\n",
       "<polyline fill=\"none\" points=\"370.5,-189.5 416.5,-189.5 \" stroke=\"#000000\"/>\n",
       "<text fill=\"#000000\" font-family=\"Times,serif\" font-size=\"14.00\" text-anchor=\"middle\" x=\"393.5\" y=\"-174.3\">output:</text>\n",
       "<polyline fill=\"none\" points=\"416.5,-166.5 416.5,-212.5 \" stroke=\"#000000\"/>\n",
       "<text fill=\"#000000\" font-family=\"Times,serif\" font-size=\"14.00\" text-anchor=\"middle\" x=\"450\" y=\"-197.3\">(None, 288)</text>\n",
       "<polyline fill=\"none\" points=\"416.5,-189.5 483.5,-189.5 \" stroke=\"#000000\"/>\n",
       "<text fill=\"#000000\" font-family=\"Times,serif\" font-size=\"14.00\" text-anchor=\"middle\" x=\"450\" y=\"-174.3\">(None, 64)</text>\n",
       "</g>\n",
       "<!-- 112464218896&#45;&gt;112467664592 -->\n",
       "<g class=\"edge\" id=\"edge11\">\n",
       "<title>112464218896-&gt;112467664592</title>\n",
       "<path d=\"M383,-249.3799C383,-241.1745 383,-231.7679 383,-222.8786\" fill=\"none\" stroke=\"#000000\"/>\n",
       "<polygon fill=\"#000000\" points=\"386.5001,-222.784 383,-212.784 379.5001,-222.784 386.5001,-222.784\" stroke=\"#000000\"/>\n",
       "</g>\n",
       "<!-- 112467661968 -->\n",
       "<g class=\"node\" id=\"node13\">\n",
       "<title>112467661968</title>\n",
       "<polygon fill=\"none\" points=\"279,-83.5 279,-129.5 487,-129.5 487,-83.5 279,-83.5\" stroke=\"#000000\"/>\n",
       "<text fill=\"#000000\" font-family=\"Times,serif\" font-size=\"14.00\" text-anchor=\"middle\" x=\"329\" y=\"-102.8\">dropout_3: Dropout</text>\n",
       "<polyline fill=\"none\" points=\"379,-83.5 379,-129.5 \" stroke=\"#000000\"/>\n",
       "<text fill=\"#000000\" font-family=\"Times,serif\" font-size=\"14.00\" text-anchor=\"middle\" x=\"402\" y=\"-114.3\">input:</text>\n",
       "<polyline fill=\"none\" points=\"379,-106.5 425,-106.5 \" stroke=\"#000000\"/>\n",
       "<text fill=\"#000000\" font-family=\"Times,serif\" font-size=\"14.00\" text-anchor=\"middle\" x=\"402\" y=\"-91.3\">output:</text>\n",
       "<polyline fill=\"none\" points=\"425,-83.5 425,-129.5 \" stroke=\"#000000\"/>\n",
       "<text fill=\"#000000\" font-family=\"Times,serif\" font-size=\"14.00\" text-anchor=\"middle\" x=\"456\" y=\"-114.3\">(None, 64)</text>\n",
       "<polyline fill=\"none\" points=\"425,-106.5 487,-106.5 \" stroke=\"#000000\"/>\n",
       "<text fill=\"#000000\" font-family=\"Times,serif\" font-size=\"14.00\" text-anchor=\"middle\" x=\"456\" y=\"-91.3\">(None, 64)</text>\n",
       "</g>\n",
       "<!-- 112467664592&#45;&gt;112467661968 -->\n",
       "<g class=\"edge\" id=\"edge12\">\n",
       "<title>112467664592-&gt;112467661968</title>\n",
       "<path d=\"M383,-166.3799C383,-158.1745 383,-148.7679 383,-139.8786\" fill=\"none\" stroke=\"#000000\"/>\n",
       "<polygon fill=\"#000000\" points=\"386.5001,-139.784 383,-129.784 379.5001,-139.784 386.5001,-139.784\" stroke=\"#000000\"/>\n",
       "</g>\n",
       "<!-- 112467570128 -->\n",
       "<g class=\"node\" id=\"node14\">\n",
       "<title>112467570128</title>\n",
       "<polygon fill=\"none\" points=\"285,-.5 285,-46.5 481,-46.5 481,-.5 285,-.5\" stroke=\"#000000\"/>\n",
       "<text fill=\"#000000\" font-family=\"Times,serif\" font-size=\"14.00\" text-anchor=\"middle\" x=\"329\" y=\"-19.8\">dense_14: Dense</text>\n",
       "<polyline fill=\"none\" points=\"373,-.5 373,-46.5 \" stroke=\"#000000\"/>\n",
       "<text fill=\"#000000\" font-family=\"Times,serif\" font-size=\"14.00\" text-anchor=\"middle\" x=\"396\" y=\"-31.3\">input:</text>\n",
       "<polyline fill=\"none\" points=\"373,-23.5 419,-23.5 \" stroke=\"#000000\"/>\n",
       "<text fill=\"#000000\" font-family=\"Times,serif\" font-size=\"14.00\" text-anchor=\"middle\" x=\"396\" y=\"-8.3\">output:</text>\n",
       "<polyline fill=\"none\" points=\"419,-.5 419,-46.5 \" stroke=\"#000000\"/>\n",
       "<text fill=\"#000000\" font-family=\"Times,serif\" font-size=\"14.00\" text-anchor=\"middle\" x=\"450\" y=\"-31.3\">(None, 64)</text>\n",
       "<polyline fill=\"none\" points=\"419,-23.5 481,-23.5 \" stroke=\"#000000\"/>\n",
       "<text fill=\"#000000\" font-family=\"Times,serif\" font-size=\"14.00\" text-anchor=\"middle\" x=\"450\" y=\"-8.3\">(None, 24)</text>\n",
       "</g>\n",
       "<!-- 112467661968&#45;&gt;112467570128 -->\n",
       "<g class=\"edge\" id=\"edge13\">\n",
       "<title>112467661968-&gt;112467570128</title>\n",
       "<path d=\"M383,-83.3799C383,-75.1745 383,-65.7679 383,-56.8786\" fill=\"none\" stroke=\"#000000\"/>\n",
       "<polygon fill=\"#000000\" points=\"386.5001,-56.784 383,-46.784 379.5001,-56.784 386.5001,-56.784\" stroke=\"#000000\"/>\n",
       "</g>\n",
       "</g>\n",
       "</svg>"
      ],
      "text/plain": [
       "<IPython.core.display.SVG object>"
      ]
     },
     "execution_count": 15,
     "metadata": {},
     "output_type": "execute_result"
    }
   ],
   "source": [
    "from IPython.display import SVG\n",
    "from keras.utils.vis_utils import model_to_dot\n",
    "SVG(model_to_dot(model,show_layer_names=True,show_shapes=True).create(prog='dot', format='svg'))"
   ]
  },
  {
   "cell_type": "code",
   "execution_count": 205,
   "metadata": {},
   "outputs": [],
   "source": [
    "adam = Adam(lr=0.01)\n",
    "model.compile(optimizer = adam,loss='categorical_crossentropy',metrics=['accuracy'])"
   ]
  },
  {
   "cell_type": "code",
   "execution_count": 203,
   "metadata": {},
   "outputs": [],
   "source": [
    "from keras.callbacks import ModelCheckpoint, EarlyStopping\n",
    "checkpoint = ModelCheckpoint('Complex-{epoch:02d}-{val_acc:.2f}.hdf5',monitor='val_acc',verbose=1,save_best_only=False,save_weights_only=True,mode='auto',period=2)\n",
    "earlystop = EarlyStopping(monitor='val_acc',min_delta=0.00001,patience=10,verbose=1,mode='auto')"
   ]
  },
  {
   "cell_type": "code",
   "execution_count": 201,
   "metadata": {},
   "outputs": [],
   "source": [
    "TrainingEpochs=50\n",
    "batch_size=50\n",
    "tr=modelGenerator(Index_train,batch_size)\n",
    "vl=modelGenerator(Index_validation,batch_size)"
   ]
  },
  {
   "cell_type": "code",
   "execution_count": 19,
   "metadata": {
    "scrolled": false
   },
   "outputs": [
    {
     "data": {
      "image/png": "[encoded data removed]",
      "text/plain": [
       "<Figure size 864x576 with 2 Axes>"
      ]
     },
     "metadata": {},
     "output_type": "display_data"
    },
    {
     "name": "stdout",
     "output_type": "stream",
     "text": [
      "Epoch 00021: early stopping\n"
     ]
    },
    {
     "data": {
      "text/plain": [
       "<keras.callbacks.History at 0x1a2f9fb610>"
      ]
     },
     "execution_count": 19,
     "metadata": {},
     "output_type": "execute_result"
    }
   ],
   "source": [
    "np.random.seed(123)\n",
    "tf.set_random_seed(123)\n",
    "model.fit_generator(tr,steps_per_epoch=-(-len(Index_train)/batch_size),epochs=TrainingEpochs,verbose=1,validation_data=vl,validation_steps=-(-len(Index_validation)/batch_size),callbacks=[PlotLossesKeras(),checkpoint,earlystop])"
   ]
  },
  {
   "cell_type": "code",
   "execution_count": 188,
   "metadata": {},
   "outputs": [
    {
     "name": "stdout",
     "output_type": "stream",
     "text": [
      "16/16 [==============================] - 249s 16s/step\n"
     ]
    }
   ],
   "source": [
    "ts=modelGenerator(Index_test,batch_size)\n",
    "Y_pred=model.predict_generator(ts,steps=-(-len(Index_test)/batch_size),verbose=1)"
   ]
  },
  {
   "cell_type": "code",
   "execution_count": 189,
   "metadata": {
    "scrolled": false
   },
   "outputs": [
    {
     "data": {
      "text/plain": [
       "0.5"
      ]
     },
     "execution_count": 189,
     "metadata": {},
     "output_type": "execute_result"
    }
   ],
   "source": [
    "roc_auc_score(Y[Index_test],Y_pred,average='macro')"
   ]
  }
 ],
 "metadata": {
  "kernelspec": {
   "display_name": "Python 2",
   "language": "python",
   "name": "python2"
  },
  "language_info": {
   "codemirror_mode": {
    "name": "ipython",
    "version": 2
   },
   "file_extension": ".py",
   "mimetype": "text/x-python",
   "name": "python",
   "nbconvert_exporter": "python",
   "pygments_lexer": "ipython2",
   "version": "2.7.15"
  }
 },
 "nbformat": 4,
 "nbformat_minor": 2
}
