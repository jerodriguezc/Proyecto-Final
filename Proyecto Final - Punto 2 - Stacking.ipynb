{
 "cells": [
  {
   "cell_type": "code",
   "execution_count": 2,
   "metadata": {
    "scrolled": true
   },
   "outputs": [
    {
     "name": "stderr",
     "output_type": "stream",
     "text": [
      "Using TensorFlow backend.\n"
     ]
    },
    {
     "name": "stdout",
     "output_type": "stream",
     "text": [
      "[nltk_data] Downloading package wordnet to\n",
      "[nltk_data]     /Users/germancarvajal/nltk_data...\n",
      "[nltk_data]   Package wordnet is already up-to-date!\n",
      "[nltk_data] Downloading package stopwords to\n",
      "[nltk_data]     /Users/germancarvajal/nltk_data...\n",
      "[nltk_data]   Package stopwords is already up-to-date!\n"
     ]
    }
   ],
   "source": [
    "import os\n",
    "import pandas as pd\n",
    "import numpy as np\n",
    "from time import time\n",
    "import matplotlib.pyplot as plt\n",
    "from sklearn.feature_extraction.text import CountVectorizer\n",
    "from sklearn.preprocessing import MultiLabelBinarizer\n",
    "from sklearn.metrics import roc_auc_score\n",
    "from sklearn.model_selection import cross_val_score, train_test_split,GridSearchCV,RandomizedSearchCV\n",
    "from keras.preprocessing.image import img_to_array, load_img, array_to_img\n",
    "from keras.applications.vgg16 import VGG16\n",
    "from nltk.stem import WordNetLemmatizer\n",
    "from nltk.corpus import stopwords\n",
    "import nltk\n",
    "import string\n",
    "import unidecode\n",
    "from keras.utils import plot_model\n",
    "from keras.models import Model\n",
    "from keras.layers import Input, Dense, Flatten,Dropout\n",
    "from keras.layers.convolutional import Conv2D\n",
    "from keras.layers.pooling import MaxPooling2D\n",
    "from keras.layers.merge import concatenate\n",
    "from livelossplot import PlotLossesKeras\n",
    "from keras.optimizers import Adam\n",
    "import tensorflow as tf\n",
    "from IPython.display import SVG\n",
    "from keras.utils.vis_utils import model_to_dot\n",
    "from keras.callbacks import ModelCheckpoint, EarlyStopping\n",
    "nltk.download('wordnet')\n",
    "nltk.download('stopwords')\n",
    "%matplotlib inline\n",
    "path = os.getcwd()\n",
    "pathColor= '/Users/germancarvajal/Downloads'\n",
    "dataTraining = pd.read_csv(os.path.join(path, 'data', 'dataTraining.csv'), encoding='UTF-8', index_col=0)"
   ]
  },
  {
   "cell_type": "code",
   "execution_count": 109,
   "metadata": {},
   "outputs": [],
   "source": [
    "Gray_Img_size=(64,40) #Size of the gray images to import \n",
    "Color_Img_size=(64,32) #Size of the color images to import with multiples of 32\n",
    "words= 1000 #Number of text features to consider in the algorithm\n",
    "Validation_percent = 0.2 #Fraction of data used for validation\n",
    "Test_percent = 0.1 #Fraction of data used for test"
   ]
  },
  {
   "cell_type": "code",
   "execution_count": 4,
   "metadata": {},
   "outputs": [],
   "source": [
    "wordnet_lemmatizer = WordNetLemmatizer()\n",
    "def split_into_lemmas(text):\n",
    "    text = unidecode.unidecode(text.lower())\n",
    "    words = text.split()\n",
    "    nopunc = [char for char in words if char not in string.punctuation]\n",
    "    clean_mess = [word for word in nopunc if word not in stopwords.words('english')]\n",
    "    return [wordnet_lemmatizer.lemmatize(word).encode('ascii') for word in clean_mess]"
   ]
  },
  {
   "cell_type": "code",
   "execution_count": 5,
   "metadata": {},
   "outputs": [
    {
     "name": "stdout",
     "output_type": "stream",
     "text": [
      "('Text input size: ', (7895, 1000))\n",
      "('Labels input size: ', (7895, 24))\n"
     ]
    }
   ],
   "source": [
    "vect = CountVectorizer(ngram_range=(1, 2), max_features=words, analyzer=split_into_lemmas,binary=False)\n",
    "X_txt = vect.fit_transform(dataTraining['plot'])\n",
    "print('Text input size: ',X_txt.shape)\n",
    "mlb = MultiLabelBinarizer()\n",
    "Y = mlb.fit_transform(pd.Series(dataTraining['genres']).map(lambda x: eval(x)))\n",
    "print('Labels input size: ',Y.shape)"
   ]
  },
  {
   "cell_type": "code",
   "execution_count": 6,
   "metadata": {},
   "outputs": [
    {
     "name": "stdout",
     "output_type": "stream",
     "text": [
      "('Training data: ', 5526)\n",
      "('Validation data: ', 1579)\n",
      "('Test data: ', 790)\n"
     ]
    }
   ],
   "source": [
    "Index_total=range(dataTraining.shape[0])\n",
    "Index_int,Index_test=train_test_split(Index_total,test_size=Test_percent,random_state=123)\n",
    "Index_train,Index_validation=train_test_split(Index_int,test_size=Validation_percent/(1-Test_percent),random_state=123)\n",
    "del Index_int,Index_total\n",
    "print('Training data: ',len(Index_train))\n",
    "print('Validation data: ',len(Index_validation))\n",
    "print('Test data: ',len(Index_test))"
   ]
  },
  {
   "cell_type": "code",
   "execution_count": 34,
   "metadata": {},
   "outputs": [
    {
     "name": "stdout",
     "output_type": "stream",
     "text": [
      "_________________________________________________________________\n",
      "Layer (type)                 Output Shape              Param #   \n",
      "=================================================================\n",
      "Text (InputLayer)            (None, 1000)              0         \n",
      "_________________________________________________________________\n",
      "dense_10 (Dense)             (None, 256)               256256    \n",
      "_________________________________________________________________\n",
      "dropout_8 (Dropout)          (None, 256)               0         \n",
      "_________________________________________________________________\n",
      "dense_11 (Dense)             (None, 128)               32896     \n",
      "_________________________________________________________________\n",
      "dropout_9 (Dropout)          (None, 128)               0         \n",
      "_________________________________________________________________\n",
      "dense_12 (Dense)             (None, 64)                8256      \n",
      "_________________________________________________________________\n",
      "dropout_10 (Dropout)         (None, 64)                0         \n",
      "_________________________________________________________________\n",
      "dense_13 (Dense)             (None, 24)                1560      \n",
      "=================================================================\n",
      "Total params: 298,968\n",
      "Trainable params: 298,968\n",
      "Non-trainable params: 0\n",
      "_________________________________________________________________\n"
     ]
    }
   ],
   "source": [
    "Text=Input(shape=(min(words,X_txt.shape[1]),),name='Text')\n",
    "T1=Dense(256,activation='relu')(Text)\n",
    "Drop1 = Dropout(0.5)(T1)\n",
    "T2 = Dense(128, activation = 'relu')(Drop1)\n",
    "Drop2 = Dropout(0.5)(T2)\n",
    "T3 = Dense(64, activation = 'relu')(Drop2)\n",
    "Drop3 = Dropout(0.5)(T3)\n",
    "output = Dense(Y.shape[1], activation='sigmoid')(Drop3)\n",
    "\n",
    "modelTxt = Model(inputs=Text, outputs=output)\n",
    "modelTxt.summary()"
   ]
  },
  {
   "cell_type": "code",
   "execution_count": 35,
   "metadata": {},
   "outputs": [
    {
     "data": {
      "image/svg+xml": [
       "<svg height=\"636pt\" viewBox=\"0.00 0.00 221.00 636.00\" width=\"221pt\" xmlns=\"http://www.w3.org/2000/svg\" xmlns:xlink=\"http://www.w3.org/1999/xlink\">\n",
       "<g class=\"graph\" id=\"graph0\" transform=\"scale(1 1) rotate(0) translate(4 632)\">\n",
       "<title>G</title>\n",
       "<polygon fill=\"#ffffff\" points=\"-4,4 -4,-632 217,-632 217,4 -4,4\" stroke=\"transparent\"/>\n",
       "<!-- 112740834384 -->\n",
       "<g class=\"node\" id=\"node1\">\n",
       "<title>112740834384</title>\n",
       "<polygon fill=\"none\" points=\"3.5,-581.5 3.5,-627.5 209.5,-627.5 209.5,-581.5 3.5,-581.5\" stroke=\"#000000\"/>\n",
       "<text fill=\"#000000\" font-family=\"Times,serif\" font-size=\"14.00\" text-anchor=\"middle\" x=\"47.5\" y=\"-600.8\">Text: InputLayer</text>\n",
       "<polyline fill=\"none\" points=\"91.5,-581.5 91.5,-627.5 \" stroke=\"#000000\"/>\n",
       "<text fill=\"#000000\" font-family=\"Times,serif\" font-size=\"14.00\" text-anchor=\"middle\" x=\"114.5\" y=\"-612.3\">input:</text>\n",
       "<polyline fill=\"none\" points=\"91.5,-604.5 137.5,-604.5 \" stroke=\"#000000\"/>\n",
       "<text fill=\"#000000\" font-family=\"Times,serif\" font-size=\"14.00\" text-anchor=\"middle\" x=\"114.5\" y=\"-589.3\">output:</text>\n",
       "<polyline fill=\"none\" points=\"137.5,-581.5 137.5,-627.5 \" stroke=\"#000000\"/>\n",
       "<text fill=\"#000000\" font-family=\"Times,serif\" font-size=\"14.00\" text-anchor=\"middle\" x=\"173.5\" y=\"-612.3\">(None, 1000)</text>\n",
       "<polyline fill=\"none\" points=\"137.5,-604.5 209.5,-604.5 \" stroke=\"#000000\"/>\n",
       "<text fill=\"#000000\" font-family=\"Times,serif\" font-size=\"14.00\" text-anchor=\"middle\" x=\"173.5\" y=\"-589.3\">(None, 1000)</text>\n",
       "</g>\n",
       "<!-- 112740833680 -->\n",
       "<g class=\"node\" id=\"node2\">\n",
       "<title>112740833680</title>\n",
       "<polygon fill=\"none\" points=\"3.5,-498.5 3.5,-544.5 209.5,-544.5 209.5,-498.5 3.5,-498.5\" stroke=\"#000000\"/>\n",
       "<text fill=\"#000000\" font-family=\"Times,serif\" font-size=\"14.00\" text-anchor=\"middle\" x=\"47.5\" y=\"-517.8\">dense_10: Dense</text>\n",
       "<polyline fill=\"none\" points=\"91.5,-498.5 91.5,-544.5 \" stroke=\"#000000\"/>\n",
       "<text fill=\"#000000\" font-family=\"Times,serif\" font-size=\"14.00\" text-anchor=\"middle\" x=\"114.5\" y=\"-529.3\">input:</text>\n",
       "<polyline fill=\"none\" points=\"91.5,-521.5 137.5,-521.5 \" stroke=\"#000000\"/>\n",
       "<text fill=\"#000000\" font-family=\"Times,serif\" font-size=\"14.00\" text-anchor=\"middle\" x=\"114.5\" y=\"-506.3\">output:</text>\n",
       "<polyline fill=\"none\" points=\"137.5,-498.5 137.5,-544.5 \" stroke=\"#000000\"/>\n",
       "<text fill=\"#000000\" font-family=\"Times,serif\" font-size=\"14.00\" text-anchor=\"middle\" x=\"173.5\" y=\"-529.3\">(None, 1000)</text>\n",
       "<polyline fill=\"none\" points=\"137.5,-521.5 209.5,-521.5 \" stroke=\"#000000\"/>\n",
       "<text fill=\"#000000\" font-family=\"Times,serif\" font-size=\"14.00\" text-anchor=\"middle\" x=\"173.5\" y=\"-506.3\">(None, 256)</text>\n",
       "</g>\n",
       "<!-- 112740834384&#45;&gt;112740833680 -->\n",
       "<g class=\"edge\" id=\"edge1\">\n",
       "<title>112740834384-&gt;112740833680</title>\n",
       "<path d=\"M106.5,-581.3799C106.5,-573.1745 106.5,-563.7679 106.5,-554.8786\" fill=\"none\" stroke=\"#000000\"/>\n",
       "<polygon fill=\"#000000\" points=\"110.0001,-554.784 106.5,-544.784 103.0001,-554.784 110.0001,-554.784\" stroke=\"#000000\"/>\n",
       "</g>\n",
       "<!-- 112616131472 -->\n",
       "<g class=\"node\" id=\"node3\">\n",
       "<title>112616131472</title>\n",
       "<polygon fill=\"none\" points=\"0,-415.5 0,-461.5 213,-461.5 213,-415.5 0,-415.5\" stroke=\"#000000\"/>\n",
       "<text fill=\"#000000\" font-family=\"Times,serif\" font-size=\"14.00\" text-anchor=\"middle\" x=\"50\" y=\"-434.8\">dropout_8: Dropout</text>\n",
       "<polyline fill=\"none\" points=\"100,-415.5 100,-461.5 \" stroke=\"#000000\"/>\n",
       "<text fill=\"#000000\" font-family=\"Times,serif\" font-size=\"14.00\" text-anchor=\"middle\" x=\"123\" y=\"-446.3\">input:</text>\n",
       "<polyline fill=\"none\" points=\"100,-438.5 146,-438.5 \" stroke=\"#000000\"/>\n",
       "<text fill=\"#000000\" font-family=\"Times,serif\" font-size=\"14.00\" text-anchor=\"middle\" x=\"123\" y=\"-423.3\">output:</text>\n",
       "<polyline fill=\"none\" points=\"146,-415.5 146,-461.5 \" stroke=\"#000000\"/>\n",
       "<text fill=\"#000000\" font-family=\"Times,serif\" font-size=\"14.00\" text-anchor=\"middle\" x=\"179.5\" y=\"-446.3\">(None, 256)</text>\n",
       "<polyline fill=\"none\" points=\"146,-438.5 213,-438.5 \" stroke=\"#000000\"/>\n",
       "<text fill=\"#000000\" font-family=\"Times,serif\" font-size=\"14.00\" text-anchor=\"middle\" x=\"179.5\" y=\"-423.3\">(None, 256)</text>\n",
       "</g>\n",
       "<!-- 112740833680&#45;&gt;112616131472 -->\n",
       "<g class=\"edge\" id=\"edge2\">\n",
       "<title>112740833680-&gt;112616131472</title>\n",
       "<path d=\"M106.5,-498.3799C106.5,-490.1745 106.5,-480.7679 106.5,-471.8786\" fill=\"none\" stroke=\"#000000\"/>\n",
       "<polygon fill=\"#000000\" points=\"110.0001,-471.784 106.5,-461.784 103.0001,-471.784 110.0001,-471.784\" stroke=\"#000000\"/>\n",
       "</g>\n",
       "<!-- 112616588496 -->\n",
       "<g class=\"node\" id=\"node4\">\n",
       "<title>112616588496</title>\n",
       "<polygon fill=\"none\" points=\"6,-332.5 6,-378.5 207,-378.5 207,-332.5 6,-332.5\" stroke=\"#000000\"/>\n",
       "<text fill=\"#000000\" font-family=\"Times,serif\" font-size=\"14.00\" text-anchor=\"middle\" x=\"50\" y=\"-351.8\">dense_11: Dense</text>\n",
       "<polyline fill=\"none\" points=\"94,-332.5 94,-378.5 \" stroke=\"#000000\"/>\n",
       "<text fill=\"#000000\" font-family=\"Times,serif\" font-size=\"14.00\" text-anchor=\"middle\" x=\"117\" y=\"-363.3\">input:</text>\n",
       "<polyline fill=\"none\" points=\"94,-355.5 140,-355.5 \" stroke=\"#000000\"/>\n",
       "<text fill=\"#000000\" font-family=\"Times,serif\" font-size=\"14.00\" text-anchor=\"middle\" x=\"117\" y=\"-340.3\">output:</text>\n",
       "<polyline fill=\"none\" points=\"140,-332.5 140,-378.5 \" stroke=\"#000000\"/>\n",
       "<text fill=\"#000000\" font-family=\"Times,serif\" font-size=\"14.00\" text-anchor=\"middle\" x=\"173.5\" y=\"-363.3\">(None, 256)</text>\n",
       "<polyline fill=\"none\" points=\"140,-355.5 207,-355.5 \" stroke=\"#000000\"/>\n",
       "<text fill=\"#000000\" font-family=\"Times,serif\" font-size=\"14.00\" text-anchor=\"middle\" x=\"173.5\" y=\"-340.3\">(None, 128)</text>\n",
       "</g>\n",
       "<!-- 112616131472&#45;&gt;112616588496 -->\n",
       "<g class=\"edge\" id=\"edge3\">\n",
       "<title>112616131472-&gt;112616588496</title>\n",
       "<path d=\"M106.5,-415.3799C106.5,-407.1745 106.5,-397.7679 106.5,-388.8786\" fill=\"none\" stroke=\"#000000\"/>\n",
       "<polygon fill=\"#000000\" points=\"110.0001,-388.784 106.5,-378.784 103.0001,-388.784 110.0001,-388.784\" stroke=\"#000000\"/>\n",
       "</g>\n",
       "<!-- 112740765136 -->\n",
       "<g class=\"node\" id=\"node5\">\n",
       "<title>112740765136</title>\n",
       "<polygon fill=\"none\" points=\"0,-249.5 0,-295.5 213,-295.5 213,-249.5 0,-249.5\" stroke=\"#000000\"/>\n",
       "<text fill=\"#000000\" font-family=\"Times,serif\" font-size=\"14.00\" text-anchor=\"middle\" x=\"50\" y=\"-268.8\">dropout_9: Dropout</text>\n",
       "<polyline fill=\"none\" points=\"100,-249.5 100,-295.5 \" stroke=\"#000000\"/>\n",
       "<text fill=\"#000000\" font-family=\"Times,serif\" font-size=\"14.00\" text-anchor=\"middle\" x=\"123\" y=\"-280.3\">input:</text>\n",
       "<polyline fill=\"none\" points=\"100,-272.5 146,-272.5 \" stroke=\"#000000\"/>\n",
       "<text fill=\"#000000\" font-family=\"Times,serif\" font-size=\"14.00\" text-anchor=\"middle\" x=\"123\" y=\"-257.3\">output:</text>\n",
       "<polyline fill=\"none\" points=\"146,-249.5 146,-295.5 \" stroke=\"#000000\"/>\n",
       "<text fill=\"#000000\" font-family=\"Times,serif\" font-size=\"14.00\" text-anchor=\"middle\" x=\"179.5\" y=\"-280.3\">(None, 128)</text>\n",
       "<polyline fill=\"none\" points=\"146,-272.5 213,-272.5 \" stroke=\"#000000\"/>\n",
       "<text fill=\"#000000\" font-family=\"Times,serif\" font-size=\"14.00\" text-anchor=\"middle\" x=\"179.5\" y=\"-257.3\">(None, 128)</text>\n",
       "</g>\n",
       "<!-- 112616588496&#45;&gt;112740765136 -->\n",
       "<g class=\"edge\" id=\"edge4\">\n",
       "<title>112616588496-&gt;112740765136</title>\n",
       "<path d=\"M106.5,-332.3799C106.5,-324.1745 106.5,-314.7679 106.5,-305.8786\" fill=\"none\" stroke=\"#000000\"/>\n",
       "<polygon fill=\"#000000\" points=\"110.0001,-305.784 106.5,-295.784 103.0001,-305.784 110.0001,-305.784\" stroke=\"#000000\"/>\n",
       "</g>\n",
       "<!-- 112749220944 -->\n",
       "<g class=\"node\" id=\"node6\">\n",
       "<title>112749220944</title>\n",
       "<polygon fill=\"none\" points=\"6,-166.5 6,-212.5 207,-212.5 207,-166.5 6,-166.5\" stroke=\"#000000\"/>\n",
       "<text fill=\"#000000\" font-family=\"Times,serif\" font-size=\"14.00\" text-anchor=\"middle\" x=\"50\" y=\"-185.8\">dense_12: Dense</text>\n",
       "<polyline fill=\"none\" points=\"94,-166.5 94,-212.5 \" stroke=\"#000000\"/>\n",
       "<text fill=\"#000000\" font-family=\"Times,serif\" font-size=\"14.00\" text-anchor=\"middle\" x=\"117\" y=\"-197.3\">input:</text>\n",
       "<polyline fill=\"none\" points=\"94,-189.5 140,-189.5 \" stroke=\"#000000\"/>\n",
       "<text fill=\"#000000\" font-family=\"Times,serif\" font-size=\"14.00\" text-anchor=\"middle\" x=\"117\" y=\"-174.3\">output:</text>\n",
       "<polyline fill=\"none\" points=\"140,-166.5 140,-212.5 \" stroke=\"#000000\"/>\n",
       "<text fill=\"#000000\" font-family=\"Times,serif\" font-size=\"14.00\" text-anchor=\"middle\" x=\"173.5\" y=\"-197.3\">(None, 128)</text>\n",
       "<polyline fill=\"none\" points=\"140,-189.5 207,-189.5 \" stroke=\"#000000\"/>\n",
       "<text fill=\"#000000\" font-family=\"Times,serif\" font-size=\"14.00\" text-anchor=\"middle\" x=\"173.5\" y=\"-174.3\">(None, 64)</text>\n",
       "</g>\n",
       "<!-- 112740765136&#45;&gt;112749220944 -->\n",
       "<g class=\"edge\" id=\"edge5\">\n",
       "<title>112740765136-&gt;112749220944</title>\n",
       "<path d=\"M106.5,-249.3799C106.5,-241.1745 106.5,-231.7679 106.5,-222.8786\" fill=\"none\" stroke=\"#000000\"/>\n",
       "<polygon fill=\"#000000\" points=\"110.0001,-222.784 106.5,-212.784 103.0001,-222.784 110.0001,-222.784\" stroke=\"#000000\"/>\n",
       "</g>\n",
       "<!-- 112749221520 -->\n",
       "<g class=\"node\" id=\"node7\">\n",
       "<title>112749221520</title>\n",
       "<polygon fill=\"none\" points=\"0,-83.5 0,-129.5 213,-129.5 213,-83.5 0,-83.5\" stroke=\"#000000\"/>\n",
       "<text fill=\"#000000\" font-family=\"Times,serif\" font-size=\"14.00\" text-anchor=\"middle\" x=\"52.5\" y=\"-102.8\">dropout_10: Dropout</text>\n",
       "<polyline fill=\"none\" points=\"105,-83.5 105,-129.5 \" stroke=\"#000000\"/>\n",
       "<text fill=\"#000000\" font-family=\"Times,serif\" font-size=\"14.00\" text-anchor=\"middle\" x=\"128\" y=\"-114.3\">input:</text>\n",
       "<polyline fill=\"none\" points=\"105,-106.5 151,-106.5 \" stroke=\"#000000\"/>\n",
       "<text fill=\"#000000\" font-family=\"Times,serif\" font-size=\"14.00\" text-anchor=\"middle\" x=\"128\" y=\"-91.3\">output:</text>\n",
       "<polyline fill=\"none\" points=\"151,-83.5 151,-129.5 \" stroke=\"#000000\"/>\n",
       "<text fill=\"#000000\" font-family=\"Times,serif\" font-size=\"14.00\" text-anchor=\"middle\" x=\"182\" y=\"-114.3\">(None, 64)</text>\n",
       "<polyline fill=\"none\" points=\"151,-106.5 213,-106.5 \" stroke=\"#000000\"/>\n",
       "<text fill=\"#000000\" font-family=\"Times,serif\" font-size=\"14.00\" text-anchor=\"middle\" x=\"182\" y=\"-91.3\">(None, 64)</text>\n",
       "</g>\n",
       "<!-- 112749220944&#45;&gt;112749221520 -->\n",
       "<g class=\"edge\" id=\"edge6\">\n",
       "<title>112749220944-&gt;112749221520</title>\n",
       "<path d=\"M106.5,-166.3799C106.5,-158.1745 106.5,-148.7679 106.5,-139.8786\" fill=\"none\" stroke=\"#000000\"/>\n",
       "<polygon fill=\"#000000\" points=\"110.0001,-139.784 106.5,-129.784 103.0001,-139.784 110.0001,-139.784\" stroke=\"#000000\"/>\n",
       "</g>\n",
       "<!-- 112743479888 -->\n",
       "<g class=\"node\" id=\"node8\">\n",
       "<title>112743479888</title>\n",
       "<polygon fill=\"none\" points=\"8.5,-.5 8.5,-46.5 204.5,-46.5 204.5,-.5 8.5,-.5\" stroke=\"#000000\"/>\n",
       "<text fill=\"#000000\" font-family=\"Times,serif\" font-size=\"14.00\" text-anchor=\"middle\" x=\"52.5\" y=\"-19.8\">dense_13: Dense</text>\n",
       "<polyline fill=\"none\" points=\"96.5,-.5 96.5,-46.5 \" stroke=\"#000000\"/>\n",
       "<text fill=\"#000000\" font-family=\"Times,serif\" font-size=\"14.00\" text-anchor=\"middle\" x=\"119.5\" y=\"-31.3\">input:</text>\n",
       "<polyline fill=\"none\" points=\"96.5,-23.5 142.5,-23.5 \" stroke=\"#000000\"/>\n",
       "<text fill=\"#000000\" font-family=\"Times,serif\" font-size=\"14.00\" text-anchor=\"middle\" x=\"119.5\" y=\"-8.3\">output:</text>\n",
       "<polyline fill=\"none\" points=\"142.5,-.5 142.5,-46.5 \" stroke=\"#000000\"/>\n",
       "<text fill=\"#000000\" font-family=\"Times,serif\" font-size=\"14.00\" text-anchor=\"middle\" x=\"173.5\" y=\"-31.3\">(None, 64)</text>\n",
       "<polyline fill=\"none\" points=\"142.5,-23.5 204.5,-23.5 \" stroke=\"#000000\"/>\n",
       "<text fill=\"#000000\" font-family=\"Times,serif\" font-size=\"14.00\" text-anchor=\"middle\" x=\"173.5\" y=\"-8.3\">(None, 24)</text>\n",
       "</g>\n",
       "<!-- 112749221520&#45;&gt;112743479888 -->\n",
       "<g class=\"edge\" id=\"edge7\">\n",
       "<title>112749221520-&gt;112743479888</title>\n",
       "<path d=\"M106.5,-83.3799C106.5,-75.1745 106.5,-65.7679 106.5,-56.8786\" fill=\"none\" stroke=\"#000000\"/>\n",
       "<polygon fill=\"#000000\" points=\"110.0001,-56.784 106.5,-46.784 103.0001,-56.784 110.0001,-56.784\" stroke=\"#000000\"/>\n",
       "</g>\n",
       "</g>\n",
       "</svg>"
      ],
      "text/plain": [
       "<IPython.core.display.SVG object>"
      ]
     },
     "execution_count": 35,
     "metadata": {},
     "output_type": "execute_result"
    }
   ],
   "source": [
    "SVG(model_to_dot(modelTxt,show_layer_names=True,show_shapes=True).create(prog='dot', format='svg'))"
   ]
  },
  {
   "cell_type": "code",
   "execution_count": 36,
   "metadata": {},
   "outputs": [],
   "source": [
    "adam = Adam(lr=0.001)\n",
    "modelTxt.compile(optimizer = adam,loss='categorical_crossentropy',metrics=['accuracy'])\n",
    "checkpointTxt = ModelCheckpoint('Txt-{epoch:02d}-{val_acc:.2f}.hdf5',monitor='val_acc',verbose=1,save_best_only=False,save_weights_only=True,mode='auto',period=2)\n",
    "earlystopTxt = EarlyStopping(monitor='val_acc',min_delta=0,patience=50,verbose=1,mode='auto')\n",
    "TrainingEpochsTxt=200\n",
    "batch_sizeTxt=50"
   ]
  },
  {
   "cell_type": "code",
   "execution_count": 37,
   "metadata": {
    "scrolled": false
   },
   "outputs": [
    {
     "data": {
      "image/png": "[encoded data removed]",
      "text/plain": [
       "<Figure size 864x576 with 2 Axes>"
      ]
     },
     "metadata": {},
     "output_type": "display_data"
    },
    {
     "name": "stdout",
     "output_type": "stream",
     "text": [
      "\n",
      "Epoch 00088: saving model to Txt-88-0.34.hdf5\n",
      "Epoch 00088: early stopping\n"
     ]
    },
    {
     "data": {
      "text/plain": [
       "<keras.callbacks.History at 0x1a3fe06b90>"
      ]
     },
     "execution_count": 37,
     "metadata": {},
     "output_type": "execute_result"
    }
   ],
   "source": [
    "np.random.seed(123)\n",
    "tf.set_random_seed(123)\n",
    "modelTxt.fit(X_txt[Index_train],Y[Index_train],batch_size=batch_sizeTxt,epochs=TrainingEpochsTxt,verbose=1,validation_data=(X_txt[Index_validation],Y[Index_validation]),callbacks=[PlotLossesKeras(),checkpointTxt,earlystopTxt])"
   ]
  },
  {
   "cell_type": "code",
   "execution_count": 128,
   "metadata": {
    "scrolled": true
   },
   "outputs": [
    {
     "data": {
      "text/plain": [
       "0.81077208861404959"
      ]
     },
     "execution_count": 128,
     "metadata": {},
     "output_type": "execute_result"
    }
   ],
   "source": [
    "Y_pred_txt=modelTxt.predict(X_txt[Index_test])\n",
    "roc_auc_score(Y[Index_test],Y_pred_txt,average='macro')"
   ]
  },
  {
   "cell_type": "code",
   "execution_count": 42,
   "metadata": {},
   "outputs": [
    {
     "name": "stdout",
     "output_type": "stream",
     "text": [
      "3383/3383 [==============================] - 0s 81us/step\n"
     ]
    }
   ],
   "source": [
    "dataTesting = pd.read_csv(os.path.join(path, 'data', 'dataTesting.csv'), encoding='UTF-8', index_col=0)\n",
    "X_txt_pred = vect.transform(dataTesting['plot'])\n",
    "predTxt=pd.DataFrame(modelTxt.predict(X_txt_pred,verbose=1),columns=['p_'+s for s in mlb.classes_],index=dataTesting.index)\n",
    "predTxt.to_csv(path_or_buf ='modelTxt.csv',index_label='ID',encoding='UTF-8')"
   ]
  },
  {
   "cell_type": "code",
   "execution_count": 46,
   "metadata": {},
   "outputs": [],
   "source": [
    "def grayGenerator(iterableList,batch_size):\n",
    "    while True:\n",
    "        for j in range(-(-len(iterableList)/batch_size)):\n",
    "            x_gray = np.full((batch_size,Gray_Img_size[0],Gray_Img_size[1],1),np.nan)\n",
    "            n=0\n",
    "            for i in iterableList[j*batch_size:min(j*batch_size+batch_size,len(iterableList))]:\n",
    "                img_g = load_img(os.path.join(path, 'images_resize_gray', str(dataTraining.index[i]) + '_resize_gray.jpeg'),target_size=Gray_Img_size,grayscale=True)\n",
    "                x_g = img_to_array(img_g)\n",
    "                x_g = x_g.reshape((1,) + x_g.shape)\n",
    "                x_gray[n]=x_g\n",
    "                n=n+1\n",
    "            x_gray=x_gray[~np.isnan(x_gray).any(axis=(1,2,3))]\n",
    "            yield x_gray,Y[j*batch_size:min(j*batch_size+batch_size,len(iterableList))]"
   ]
  },
  {
   "cell_type": "code",
   "execution_count": 90,
   "metadata": {},
   "outputs": [
    {
     "name": "stdout",
     "output_type": "stream",
     "text": [
      "_________________________________________________________________\n",
      "Layer (type)                 Output Shape              Param #   \n",
      "=================================================================\n",
      "Gray_Image (InputLayer)      (None, 64, 40, 1)         0         \n",
      "_________________________________________________________________\n",
      "conv2d_15 (Conv2D)           (None, 61, 37, 32)        544       \n",
      "_________________________________________________________________\n",
      "max_pooling2d_14 (MaxPooling (None, 15, 9, 32)         0         \n",
      "_________________________________________________________________\n",
      "conv2d_16 (Conv2D)           (None, 12, 6, 32)         16416     \n",
      "_________________________________________________________________\n",
      "max_pooling2d_15 (MaxPooling (None, 3, 1, 32)          0         \n",
      "_________________________________________________________________\n",
      "flatten_9 (Flatten)          (None, 96)                0         \n",
      "_________________________________________________________________\n",
      "dense_33 (Dense)             (None, 128)               12416     \n",
      "_________________________________________________________________\n",
      "dense_34 (Dense)             (None, 64)                8256      \n",
      "_________________________________________________________________\n",
      "dense_35 (Dense)             (None, 24)                1560      \n",
      "=================================================================\n",
      "Total params: 39,192\n",
      "Trainable params: 39,192\n",
      "Non-trainable params: 0\n",
      "_________________________________________________________________\n"
     ]
    }
   ],
   "source": [
    "GrayImage = Input(shape=(Gray_Img_size[0],Gray_Img_size[1],1),name='Gray_Image')\n",
    "cG1 = Conv2D(32, kernel_size=4, activation='relu')(GrayImage)\n",
    "pG1 = MaxPooling2D(pool_size=(4, 4))(cG1)\n",
    "cG2 = Conv2D(32, kernel_size=4, activation='relu')(pG1)\n",
    "pG2 = MaxPooling2D(pool_size=(4, 4))(cG2)\n",
    "flat = Flatten()(pG2)\n",
    "G1=Dense(128,activation='relu')(flat)\n",
    "G2=Dense(64,activation='relu')(G1)\n",
    "output = Dense(Y.shape[1], activation='sigmoid')(G2)\n",
    "\n",
    "modelGray = Model(inputs=GrayImage, outputs=output)\n",
    "modelGray.summary()"
   ]
  },
  {
   "cell_type": "code",
   "execution_count": 91,
   "metadata": {},
   "outputs": [
    {
     "data": {
      "image/svg+xml": [
       "<svg height=\"719pt\" viewBox=\"0.00 0.00 315.00 719.00\" width=\"315pt\" xmlns=\"http://www.w3.org/2000/svg\" xmlns:xlink=\"http://www.w3.org/1999/xlink\">\n",
       "<g class=\"graph\" id=\"graph0\" transform=\"scale(1 1) rotate(0) translate(4 715)\">\n",
       "<title>G</title>\n",
       "<polygon fill=\"#ffffff\" points=\"-4,4 -4,-715 311,-715 311,4 -4,4\" stroke=\"transparent\"/>\n",
       "<!-- 112733289232 -->\n",
       "<g class=\"node\" id=\"node1\">\n",
       "<title>112733289232</title>\n",
       "<polygon fill=\"none\" points=\"26,-664.5 26,-710.5 281,-710.5 281,-664.5 26,-664.5\" stroke=\"#000000\"/>\n",
       "<text fill=\"#000000\" font-family=\"Times,serif\" font-size=\"14.00\" text-anchor=\"middle\" x=\"86.5\" y=\"-683.8\">Gray_Image: InputLayer</text>\n",
       "<polyline fill=\"none\" points=\"147,-664.5 147,-710.5 \" stroke=\"#000000\"/>\n",
       "<text fill=\"#000000\" font-family=\"Times,serif\" font-size=\"14.00\" text-anchor=\"middle\" x=\"170\" y=\"-695.3\">input:</text>\n",
       "<polyline fill=\"none\" points=\"147,-687.5 193,-687.5 \" stroke=\"#000000\"/>\n",
       "<text fill=\"#000000\" font-family=\"Times,serif\" font-size=\"14.00\" text-anchor=\"middle\" x=\"170\" y=\"-672.3\">output:</text>\n",
       "<polyline fill=\"none\" points=\"193,-664.5 193,-710.5 \" stroke=\"#000000\"/>\n",
       "<text fill=\"#000000\" font-family=\"Times,serif\" font-size=\"14.00\" text-anchor=\"middle\" x=\"237\" y=\"-695.3\">(None, 64, 40, 1)</text>\n",
       "<polyline fill=\"none\" points=\"193,-687.5 281,-687.5 \" stroke=\"#000000\"/>\n",
       "<text fill=\"#000000\" font-family=\"Times,serif\" font-size=\"14.00\" text-anchor=\"middle\" x=\"237\" y=\"-672.3\">(None, 64, 40, 1)</text>\n",
       "</g>\n",
       "<!-- 112733289104 -->\n",
       "<g class=\"node\" id=\"node2\">\n",
       "<title>112733289104</title>\n",
       "<polygon fill=\"none\" points=\"32,-581.5 32,-627.5 275,-627.5 275,-581.5 32,-581.5\" stroke=\"#000000\"/>\n",
       "<text fill=\"#000000\" font-family=\"Times,serif\" font-size=\"14.00\" text-anchor=\"middle\" x=\"84\" y=\"-600.8\">conv2d_15: Conv2D</text>\n",
       "<polyline fill=\"none\" points=\"136,-581.5 136,-627.5 \" stroke=\"#000000\"/>\n",
       "<text fill=\"#000000\" font-family=\"Times,serif\" font-size=\"14.00\" text-anchor=\"middle\" x=\"159\" y=\"-612.3\">input:</text>\n",
       "<polyline fill=\"none\" points=\"136,-604.5 182,-604.5 \" stroke=\"#000000\"/>\n",
       "<text fill=\"#000000\" font-family=\"Times,serif\" font-size=\"14.00\" text-anchor=\"middle\" x=\"159\" y=\"-589.3\">output:</text>\n",
       "<polyline fill=\"none\" points=\"182,-581.5 182,-627.5 \" stroke=\"#000000\"/>\n",
       "<text fill=\"#000000\" font-family=\"Times,serif\" font-size=\"14.00\" text-anchor=\"middle\" x=\"228.5\" y=\"-612.3\">(None, 64, 40, 1)</text>\n",
       "<polyline fill=\"none\" points=\"182,-604.5 275,-604.5 \" stroke=\"#000000\"/>\n",
       "<text fill=\"#000000\" font-family=\"Times,serif\" font-size=\"14.00\" text-anchor=\"middle\" x=\"228.5\" y=\"-589.3\">(None, 61, 37, 32)</text>\n",
       "</g>\n",
       "<!-- 112733289232&#45;&gt;112733289104 -->\n",
       "<g class=\"edge\" id=\"edge1\">\n",
       "<title>112733289232-&gt;112733289104</title>\n",
       "<path d=\"M153.5,-664.3799C153.5,-656.1745 153.5,-646.7679 153.5,-637.8786\" fill=\"none\" stroke=\"#000000\"/>\n",
       "<polygon fill=\"#000000\" points=\"157.0001,-637.784 153.5,-627.784 150.0001,-637.784 157.0001,-637.784\" stroke=\"#000000\"/>\n",
       "</g>\n",
       "<!-- 112802588176 -->\n",
       "<g class=\"node\" id=\"node3\">\n",
       "<title>112802588176</title>\n",
       "<polygon fill=\"none\" points=\"0,-498.5 0,-544.5 307,-544.5 307,-498.5 0,-498.5\" stroke=\"#000000\"/>\n",
       "<text fill=\"#000000\" font-family=\"Times,serif\" font-size=\"14.00\" text-anchor=\"middle\" x=\"84\" y=\"-517.8\">max_pooling2d_14: MaxPooling2D</text>\n",
       "<polyline fill=\"none\" points=\"168,-498.5 168,-544.5 \" stroke=\"#000000\"/>\n",
       "<text fill=\"#000000\" font-family=\"Times,serif\" font-size=\"14.00\" text-anchor=\"middle\" x=\"191\" y=\"-529.3\">input:</text>\n",
       "<polyline fill=\"none\" points=\"168,-521.5 214,-521.5 \" stroke=\"#000000\"/>\n",
       "<text fill=\"#000000\" font-family=\"Times,serif\" font-size=\"14.00\" text-anchor=\"middle\" x=\"191\" y=\"-506.3\">output:</text>\n",
       "<polyline fill=\"none\" points=\"214,-498.5 214,-544.5 \" stroke=\"#000000\"/>\n",
       "<text fill=\"#000000\" font-family=\"Times,serif\" font-size=\"14.00\" text-anchor=\"middle\" x=\"260.5\" y=\"-529.3\">(None, 61, 37, 32)</text>\n",
       "<polyline fill=\"none\" points=\"214,-521.5 307,-521.5 \" stroke=\"#000000\"/>\n",
       "<text fill=\"#000000\" font-family=\"Times,serif\" font-size=\"14.00\" text-anchor=\"middle\" x=\"260.5\" y=\"-506.3\">(None, 15, 9, 32)</text>\n",
       "</g>\n",
       "<!-- 112733289104&#45;&gt;112802588176 -->\n",
       "<g class=\"edge\" id=\"edge2\">\n",
       "<title>112733289104-&gt;112802588176</title>\n",
       "<path d=\"M153.5,-581.3799C153.5,-573.1745 153.5,-563.7679 153.5,-554.8786\" fill=\"none\" stroke=\"#000000\"/>\n",
       "<polygon fill=\"#000000\" points=\"157.0001,-554.784 153.5,-544.784 150.0001,-554.784 157.0001,-554.784\" stroke=\"#000000\"/>\n",
       "</g>\n",
       "<!-- 112802587920 -->\n",
       "<g class=\"node\" id=\"node4\">\n",
       "<title>112802587920</title>\n",
       "<polygon fill=\"none\" points=\"34.5,-415.5 34.5,-461.5 272.5,-461.5 272.5,-415.5 34.5,-415.5\" stroke=\"#000000\"/>\n",
       "<text fill=\"#000000\" font-family=\"Times,serif\" font-size=\"14.00\" text-anchor=\"middle\" x=\"86.5\" y=\"-434.8\">conv2d_16: Conv2D</text>\n",
       "<polyline fill=\"none\" points=\"138.5,-415.5 138.5,-461.5 \" stroke=\"#000000\"/>\n",
       "<text fill=\"#000000\" font-family=\"Times,serif\" font-size=\"14.00\" text-anchor=\"middle\" x=\"161.5\" y=\"-446.3\">input:</text>\n",
       "<polyline fill=\"none\" points=\"138.5,-438.5 184.5,-438.5 \" stroke=\"#000000\"/>\n",
       "<text fill=\"#000000\" font-family=\"Times,serif\" font-size=\"14.00\" text-anchor=\"middle\" x=\"161.5\" y=\"-423.3\">output:</text>\n",
       "<polyline fill=\"none\" points=\"184.5,-415.5 184.5,-461.5 \" stroke=\"#000000\"/>\n",
       "<text fill=\"#000000\" font-family=\"Times,serif\" font-size=\"14.00\" text-anchor=\"middle\" x=\"228.5\" y=\"-446.3\">(None, 15, 9, 32)</text>\n",
       "<polyline fill=\"none\" points=\"184.5,-438.5 272.5,-438.5 \" stroke=\"#000000\"/>\n",
       "<text fill=\"#000000\" font-family=\"Times,serif\" font-size=\"14.00\" text-anchor=\"middle\" x=\"228.5\" y=\"-423.3\">(None, 12, 6, 32)</text>\n",
       "</g>\n",
       "<!-- 112802588176&#45;&gt;112802587920 -->\n",
       "<g class=\"edge\" id=\"edge3\">\n",
       "<title>112802588176-&gt;112802587920</title>\n",
       "<path d=\"M153.5,-498.3799C153.5,-490.1745 153.5,-480.7679 153.5,-471.8786\" fill=\"none\" stroke=\"#000000\"/>\n",
       "<polygon fill=\"#000000\" points=\"157.0001,-471.784 153.5,-461.784 150.0001,-471.784 157.0001,-471.784\" stroke=\"#000000\"/>\n",
       "</g>\n",
       "<!-- 112840236496 -->\n",
       "<g class=\"node\" id=\"node5\">\n",
       "<title>112840236496</title>\n",
       "<polygon fill=\"none\" points=\"2.5,-332.5 2.5,-378.5 304.5,-378.5 304.5,-332.5 2.5,-332.5\" stroke=\"#000000\"/>\n",
       "<text fill=\"#000000\" font-family=\"Times,serif\" font-size=\"14.00\" text-anchor=\"middle\" x=\"86.5\" y=\"-351.8\">max_pooling2d_15: MaxPooling2D</text>\n",
       "<polyline fill=\"none\" points=\"170.5,-332.5 170.5,-378.5 \" stroke=\"#000000\"/>\n",
       "<text fill=\"#000000\" font-family=\"Times,serif\" font-size=\"14.00\" text-anchor=\"middle\" x=\"193.5\" y=\"-363.3\">input:</text>\n",
       "<polyline fill=\"none\" points=\"170.5,-355.5 216.5,-355.5 \" stroke=\"#000000\"/>\n",
       "<text fill=\"#000000\" font-family=\"Times,serif\" font-size=\"14.00\" text-anchor=\"middle\" x=\"193.5\" y=\"-340.3\">output:</text>\n",
       "<polyline fill=\"none\" points=\"216.5,-332.5 216.5,-378.5 \" stroke=\"#000000\"/>\n",
       "<text fill=\"#000000\" font-family=\"Times,serif\" font-size=\"14.00\" text-anchor=\"middle\" x=\"260.5\" y=\"-363.3\">(None, 12, 6, 32)</text>\n",
       "<polyline fill=\"none\" points=\"216.5,-355.5 304.5,-355.5 \" stroke=\"#000000\"/>\n",
       "<text fill=\"#000000\" font-family=\"Times,serif\" font-size=\"14.00\" text-anchor=\"middle\" x=\"260.5\" y=\"-340.3\">(None, 3, 1, 32)</text>\n",
       "</g>\n",
       "<!-- 112802587920&#45;&gt;112840236496 -->\n",
       "<g class=\"edge\" id=\"edge4\">\n",
       "<title>112802587920-&gt;112840236496</title>\n",
       "<path d=\"M153.5,-415.3799C153.5,-407.1745 153.5,-397.7679 153.5,-388.8786\" fill=\"none\" stroke=\"#000000\"/>\n",
       "<polygon fill=\"#000000\" points=\"157.0001,-388.784 153.5,-378.784 150.0001,-388.784 157.0001,-388.784\" stroke=\"#000000\"/>\n",
       "</g>\n",
       "<!-- 112802720848 -->\n",
       "<g class=\"node\" id=\"node6\">\n",
       "<title>112802720848</title>\n",
       "<polygon fill=\"none\" points=\"45,-249.5 45,-295.5 262,-295.5 262,-249.5 45,-249.5\" stroke=\"#000000\"/>\n",
       "<text fill=\"#000000\" font-family=\"Times,serif\" font-size=\"14.00\" text-anchor=\"middle\" x=\"89\" y=\"-268.8\">flatten_9: Flatten</text>\n",
       "<polyline fill=\"none\" points=\"133,-249.5 133,-295.5 \" stroke=\"#000000\"/>\n",
       "<text fill=\"#000000\" font-family=\"Times,serif\" font-size=\"14.00\" text-anchor=\"middle\" x=\"156\" y=\"-280.3\">input:</text>\n",
       "<polyline fill=\"none\" points=\"133,-272.5 179,-272.5 \" stroke=\"#000000\"/>\n",
       "<text fill=\"#000000\" font-family=\"Times,serif\" font-size=\"14.00\" text-anchor=\"middle\" x=\"156\" y=\"-257.3\">output:</text>\n",
       "<polyline fill=\"none\" points=\"179,-249.5 179,-295.5 \" stroke=\"#000000\"/>\n",
       "<text fill=\"#000000\" font-family=\"Times,serif\" font-size=\"14.00\" text-anchor=\"middle\" x=\"220.5\" y=\"-280.3\">(None, 3, 1, 32)</text>\n",
       "<polyline fill=\"none\" points=\"179,-272.5 262,-272.5 \" stroke=\"#000000\"/>\n",
       "<text fill=\"#000000\" font-family=\"Times,serif\" font-size=\"14.00\" text-anchor=\"middle\" x=\"220.5\" y=\"-257.3\">(None, 96)</text>\n",
       "</g>\n",
       "<!-- 112840236496&#45;&gt;112802720848 -->\n",
       "<g class=\"edge\" id=\"edge5\">\n",
       "<title>112840236496-&gt;112802720848</title>\n",
       "<path d=\"M153.5,-332.3799C153.5,-324.1745 153.5,-314.7679 153.5,-305.8786\" fill=\"none\" stroke=\"#000000\"/>\n",
       "<polygon fill=\"#000000\" points=\"157.0001,-305.784 153.5,-295.784 150.0001,-305.784 157.0001,-305.784\" stroke=\"#000000\"/>\n",
       "</g>\n",
       "<!-- 112840214416 -->\n",
       "<g class=\"node\" id=\"node7\">\n",
       "<title>112840214416</title>\n",
       "<polygon fill=\"none\" points=\"53,-166.5 53,-212.5 254,-212.5 254,-166.5 53,-166.5\" stroke=\"#000000\"/>\n",
       "<text fill=\"#000000\" font-family=\"Times,serif\" font-size=\"14.00\" text-anchor=\"middle\" x=\"97\" y=\"-185.8\">dense_33: Dense</text>\n",
       "<polyline fill=\"none\" points=\"141,-166.5 141,-212.5 \" stroke=\"#000000\"/>\n",
       "<text fill=\"#000000\" font-family=\"Times,serif\" font-size=\"14.00\" text-anchor=\"middle\" x=\"164\" y=\"-197.3\">input:</text>\n",
       "<polyline fill=\"none\" points=\"141,-189.5 187,-189.5 \" stroke=\"#000000\"/>\n",
       "<text fill=\"#000000\" font-family=\"Times,serif\" font-size=\"14.00\" text-anchor=\"middle\" x=\"164\" y=\"-174.3\">output:</text>\n",
       "<polyline fill=\"none\" points=\"187,-166.5 187,-212.5 \" stroke=\"#000000\"/>\n",
       "<text fill=\"#000000\" font-family=\"Times,serif\" font-size=\"14.00\" text-anchor=\"middle\" x=\"220.5\" y=\"-197.3\">(None, 96)</text>\n",
       "<polyline fill=\"none\" points=\"187,-189.5 254,-189.5 \" stroke=\"#000000\"/>\n",
       "<text fill=\"#000000\" font-family=\"Times,serif\" font-size=\"14.00\" text-anchor=\"middle\" x=\"220.5\" y=\"-174.3\">(None, 128)</text>\n",
       "</g>\n",
       "<!-- 112802720848&#45;&gt;112840214416 -->\n",
       "<g class=\"edge\" id=\"edge6\">\n",
       "<title>112802720848-&gt;112840214416</title>\n",
       "<path d=\"M153.5,-249.3799C153.5,-241.1745 153.5,-231.7679 153.5,-222.8786\" fill=\"none\" stroke=\"#000000\"/>\n",
       "<polygon fill=\"#000000\" points=\"157.0001,-222.784 153.5,-212.784 150.0001,-222.784 157.0001,-222.784\" stroke=\"#000000\"/>\n",
       "</g>\n",
       "<!-- 112840214352 -->\n",
       "<g class=\"node\" id=\"node8\">\n",
       "<title>112840214352</title>\n",
       "<polygon fill=\"none\" points=\"53,-83.5 53,-129.5 254,-129.5 254,-83.5 53,-83.5\" stroke=\"#000000\"/>\n",
       "<text fill=\"#000000\" font-family=\"Times,serif\" font-size=\"14.00\" text-anchor=\"middle\" x=\"97\" y=\"-102.8\">dense_34: Dense</text>\n",
       "<polyline fill=\"none\" points=\"141,-83.5 141,-129.5 \" stroke=\"#000000\"/>\n",
       "<text fill=\"#000000\" font-family=\"Times,serif\" font-size=\"14.00\" text-anchor=\"middle\" x=\"164\" y=\"-114.3\">input:</text>\n",
       "<polyline fill=\"none\" points=\"141,-106.5 187,-106.5 \" stroke=\"#000000\"/>\n",
       "<text fill=\"#000000\" font-family=\"Times,serif\" font-size=\"14.00\" text-anchor=\"middle\" x=\"164\" y=\"-91.3\">output:</text>\n",
       "<polyline fill=\"none\" points=\"187,-83.5 187,-129.5 \" stroke=\"#000000\"/>\n",
       "<text fill=\"#000000\" font-family=\"Times,serif\" font-size=\"14.00\" text-anchor=\"middle\" x=\"220.5\" y=\"-114.3\">(None, 128)</text>\n",
       "<polyline fill=\"none\" points=\"187,-106.5 254,-106.5 \" stroke=\"#000000\"/>\n",
       "<text fill=\"#000000\" font-family=\"Times,serif\" font-size=\"14.00\" text-anchor=\"middle\" x=\"220.5\" y=\"-91.3\">(None, 64)</text>\n",
       "</g>\n",
       "<!-- 112840214416&#45;&gt;112840214352 -->\n",
       "<g class=\"edge\" id=\"edge7\">\n",
       "<title>112840214416-&gt;112840214352</title>\n",
       "<path d=\"M153.5,-166.3799C153.5,-158.1745 153.5,-148.7679 153.5,-139.8786\" fill=\"none\" stroke=\"#000000\"/>\n",
       "<polygon fill=\"#000000\" points=\"157.0001,-139.784 153.5,-129.784 150.0001,-139.784 157.0001,-139.784\" stroke=\"#000000\"/>\n",
       "</g>\n",
       "<!-- 112840423504 -->\n",
       "<g class=\"node\" id=\"node9\">\n",
       "<title>112840423504</title>\n",
       "<polygon fill=\"none\" points=\"55.5,-.5 55.5,-46.5 251.5,-46.5 251.5,-.5 55.5,-.5\" stroke=\"#000000\"/>\n",
       "<text fill=\"#000000\" font-family=\"Times,serif\" font-size=\"14.00\" text-anchor=\"middle\" x=\"99.5\" y=\"-19.8\">dense_35: Dense</text>\n",
       "<polyline fill=\"none\" points=\"143.5,-.5 143.5,-46.5 \" stroke=\"#000000\"/>\n",
       "<text fill=\"#000000\" font-family=\"Times,serif\" font-size=\"14.00\" text-anchor=\"middle\" x=\"166.5\" y=\"-31.3\">input:</text>\n",
       "<polyline fill=\"none\" points=\"143.5,-23.5 189.5,-23.5 \" stroke=\"#000000\"/>\n",
       "<text fill=\"#000000\" font-family=\"Times,serif\" font-size=\"14.00\" text-anchor=\"middle\" x=\"166.5\" y=\"-8.3\">output:</text>\n",
       "<polyline fill=\"none\" points=\"189.5,-.5 189.5,-46.5 \" stroke=\"#000000\"/>\n",
       "<text fill=\"#000000\" font-family=\"Times,serif\" font-size=\"14.00\" text-anchor=\"middle\" x=\"220.5\" y=\"-31.3\">(None, 64)</text>\n",
       "<polyline fill=\"none\" points=\"189.5,-23.5 251.5,-23.5 \" stroke=\"#000000\"/>\n",
       "<text fill=\"#000000\" font-family=\"Times,serif\" font-size=\"14.00\" text-anchor=\"middle\" x=\"220.5\" y=\"-8.3\">(None, 24)</text>\n",
       "</g>\n",
       "<!-- 112840214352&#45;&gt;112840423504 -->\n",
       "<g class=\"edge\" id=\"edge8\">\n",
       "<title>112840214352-&gt;112840423504</title>\n",
       "<path d=\"M153.5,-83.3799C153.5,-75.1745 153.5,-65.7679 153.5,-56.8786\" fill=\"none\" stroke=\"#000000\"/>\n",
       "<polygon fill=\"#000000\" points=\"157.0001,-56.784 153.5,-46.784 150.0001,-56.784 157.0001,-56.784\" stroke=\"#000000\"/>\n",
       "</g>\n",
       "</g>\n",
       "</svg>"
      ],
      "text/plain": [
       "<IPython.core.display.SVG object>"
      ]
     },
     "execution_count": 91,
     "metadata": {},
     "output_type": "execute_result"
    }
   ],
   "source": [
    "SVG(model_to_dot(modelGray,show_layer_names=True,show_shapes=True).create(prog='dot', format='svg'))"
   ]
  },
  {
   "cell_type": "code",
   "execution_count": 93,
   "metadata": {},
   "outputs": [],
   "source": [
    "adam = Adam(lr=0.001)\n",
    "modelGray.compile(optimizer = adam,loss='categorical_crossentropy',metrics=['accuracy'])\n",
    "checkpointGray = ModelCheckpoint('Gray-{epoch:02d}-{val_acc:.2f}.hdf5',monitor='val_acc',verbose=1,save_best_only=False,save_weights_only=True,mode='auto',period=2)\n",
    "earlystopGray = EarlyStopping(monitor='val_acc',min_delta=0,patience=10,verbose=1,mode='auto')\n",
    "TrainingEpochsGray=100\n",
    "batch_sizeGray=50\n",
    "trGray=grayGenerator(Index_train,batch_sizeGray)\n",
    "vlGray=grayGenerator(Index_validation,batch_sizeGray)"
   ]
  },
  {
   "cell_type": "code",
   "execution_count": 94,
   "metadata": {
    "scrolled": false
   },
   "outputs": [
    {
     "data": {
      "image/png": "[encoded data removed]",
      "text/plain": [
       "<Figure size 864x576 with 2 Axes>"
      ]
     },
     "metadata": {},
     "output_type": "display_data"
    },
    {
     "name": "stdout",
     "output_type": "stream",
     "text": [
      "Epoch 00013: early stopping\n"
     ]
    },
    {
     "data": {
      "text/plain": [
       "<keras.callbacks.History at 0x1a4418a890>"
      ]
     },
     "execution_count": 94,
     "metadata": {},
     "output_type": "execute_result"
    }
   ],
   "source": [
    "np.random.seed(123)\n",
    "tf.set_random_seed(123)\n",
    "modelGray.fit_generator(trGray,steps_per_epoch=-(-len(Index_train)/batch_sizeGray),epochs=TrainingEpochsGray,verbose=1,validation_data=vlGray,validation_steps=-(-len(Index_validation)/batch_sizeGray),callbacks=[PlotLossesKeras(),checkpointGray,earlystopGray])"
   ]
  },
  {
   "cell_type": "code",
   "execution_count": 95,
   "metadata": {
    "scrolled": true
   },
   "outputs": [
    {
     "name": "stdout",
     "output_type": "stream",
     "text": [
      "16/16 [==============================] - 1s 58ms/step\n"
     ]
    }
   ],
   "source": [
    "tsGray=grayGenerator(Index_test,batch_sizeGray)\n",
    "Y_predGray=modelGray.predict_generator(tsGray,steps=-(-len(Index_test)/batch_sizeGray),verbose=1)"
   ]
  },
  {
   "cell_type": "code",
   "execution_count": 96,
   "metadata": {},
   "outputs": [
    {
     "data": {
      "text/plain": [
       "0.51394793932133365"
      ]
     },
     "execution_count": 96,
     "metadata": {},
     "output_type": "execute_result"
    }
   ],
   "source": [
    "roc_auc_score(Y[Index_test],Y_predGray,average='macro')"
   ]
  },
  {
   "cell_type": "code",
   "execution_count": 102,
   "metadata": {},
   "outputs": [],
   "source": [
    "model_vgg16 = VGG16(include_top=False, weights='imagenet')\n",
    "graph = tf.get_default_graph()"
   ]
  },
  {
   "cell_type": "code",
   "execution_count": 103,
   "metadata": {},
   "outputs": [],
   "source": [
    "def colorGenerator(iterableList,batch_size):\n",
    "    while True:\n",
    "        for j in range(-(-len(iterableList)/batch_size)):\n",
    "            x_color = np.full((batch_size,Color_Img_size[0]/32,Color_Img_size[1]/32,512),np.nan)\n",
    "            n=0\n",
    "            for i in iterableList[j*batch_size:min(j*batch_size+batch_size,len(iterableList))]:\n",
    "                img_c = load_img(os.path.join(pathColor, 'images', str(dataTraining.index[i]) + '.jpeg'),target_size=Color_Img_size,grayscale=False)\n",
    "                x_c = img_to_array(img_c)\n",
    "                x_c = x_c.reshape((1,) + x_c.shape)\n",
    "                with graph.as_default():\n",
    "                    x_vgg = model_vgg16.predict(x_c)\n",
    "                x_color[n]=x_vgg\n",
    "                n=n+1\n",
    "            x_color=x_color[~np.isnan(x_color).any(axis=(1,2,3))]\n",
    "            yield x_color,Y[j*batch_size:min(j*batch_size+batch_size,len(iterableList))]"
   ]
  },
  {
   "cell_type": "code",
   "execution_count": 110,
   "metadata": {
    "scrolled": true
   },
   "outputs": [
    {
     "name": "stdout",
     "output_type": "stream",
     "text": [
      "_________________________________________________________________\n",
      "Layer (type)                 Output Shape              Param #   \n",
      "=================================================================\n",
      "VGG16 (InputLayer)           (None, 2, 1, 512)         0         \n",
      "_________________________________________________________________\n",
      "flatten_13 (Flatten)         (None, 1024)              0         \n",
      "_________________________________________________________________\n",
      "dense_46 (Dense)             (None, 256)               262400    \n",
      "_________________________________________________________________\n",
      "dense_47 (Dense)             (None, 64)                16448     \n",
      "_________________________________________________________________\n",
      "dense_48 (Dense)             (None, 24)                1560      \n",
      "=================================================================\n",
      "Total params: 280,408\n",
      "Trainable params: 280,408\n",
      "Non-trainable params: 0\n",
      "_________________________________________________________________\n"
     ]
    }
   ],
   "source": [
    "VGG_out = Input(shape=(Color_Img_size[0]/32,Color_Img_size[1]/32,512),name='VGG16')\n",
    "flatVGG = Flatten()(VGG_out)\n",
    "C1 = Dense(256, activation='relu')(flatVGG)\n",
    "C2 = Dense(64, activation='relu')(C1)\n",
    "output = Dense(Y.shape[1], activation='sigmoid')(C2)\n",
    "\n",
    "modelColor = Model(inputs=VGG_out, outputs=output)\n",
    "modelColor.summary()"
   ]
  },
  {
   "cell_type": "code",
   "execution_count": 111,
   "metadata": {
    "scrolled": false
   },
   "outputs": [
    {
     "data": {
      "image/svg+xml": [
       "<svg height=\"387pt\" viewBox=\"0.00 0.00 244.00 387.00\" width=\"244pt\" xmlns=\"http://www.w3.org/2000/svg\" xmlns:xlink=\"http://www.w3.org/1999/xlink\">\n",
       "<g class=\"graph\" id=\"graph0\" transform=\"scale(1 1) rotate(0) translate(4 383)\">\n",
       "<title>G</title>\n",
       "<polygon fill=\"#ffffff\" points=\"-4,4 -4,-383 240,-383 240,4 -4,4\" stroke=\"transparent\"/>\n",
       "<!-- 112661996496 -->\n",
       "<g class=\"node\" id=\"node1\">\n",
       "<title>112661996496</title>\n",
       "<polygon fill=\"none\" points=\"0,-332.5 0,-378.5 236,-378.5 236,-332.5 0,-332.5\" stroke=\"#000000\"/>\n",
       "<text fill=\"#000000\" font-family=\"Times,serif\" font-size=\"14.00\" text-anchor=\"middle\" x=\"51\" y=\"-351.8\">VGG16: InputLayer</text>\n",
       "<polyline fill=\"none\" points=\"102,-332.5 102,-378.5 \" stroke=\"#000000\"/>\n",
       "<text fill=\"#000000\" font-family=\"Times,serif\" font-size=\"14.00\" text-anchor=\"middle\" x=\"125\" y=\"-363.3\">input:</text>\n",
       "<polyline fill=\"none\" points=\"102,-355.5 148,-355.5 \" stroke=\"#000000\"/>\n",
       "<text fill=\"#000000\" font-family=\"Times,serif\" font-size=\"14.00\" text-anchor=\"middle\" x=\"125\" y=\"-340.3\">output:</text>\n",
       "<polyline fill=\"none\" points=\"148,-332.5 148,-378.5 \" stroke=\"#000000\"/>\n",
       "<text fill=\"#000000\" font-family=\"Times,serif\" font-size=\"14.00\" text-anchor=\"middle\" x=\"192\" y=\"-363.3\">(None, 2, 1, 512)</text>\n",
       "<polyline fill=\"none\" points=\"148,-355.5 236,-355.5 \" stroke=\"#000000\"/>\n",
       "<text fill=\"#000000\" font-family=\"Times,serif\" font-size=\"14.00\" text-anchor=\"middle\" x=\"192\" y=\"-340.3\">(None, 2, 1, 512)</text>\n",
       "</g>\n",
       "<!-- 112661996432 -->\n",
       "<g class=\"node\" id=\"node2\">\n",
       "<title>112661996432</title>\n",
       "<polygon fill=\"none\" points=\"4.5,-249.5 4.5,-295.5 231.5,-295.5 231.5,-249.5 4.5,-249.5\" stroke=\"#000000\"/>\n",
       "<text fill=\"#000000\" font-family=\"Times,serif\" font-size=\"14.00\" text-anchor=\"middle\" x=\"51\" y=\"-268.8\">flatten_13: Flatten</text>\n",
       "<polyline fill=\"none\" points=\"97.5,-249.5 97.5,-295.5 \" stroke=\"#000000\"/>\n",
       "<text fill=\"#000000\" font-family=\"Times,serif\" font-size=\"14.00\" text-anchor=\"middle\" x=\"120.5\" y=\"-280.3\">input:</text>\n",
       "<polyline fill=\"none\" points=\"97.5,-272.5 143.5,-272.5 \" stroke=\"#000000\"/>\n",
       "<text fill=\"#000000\" font-family=\"Times,serif\" font-size=\"14.00\" text-anchor=\"middle\" x=\"120.5\" y=\"-257.3\">output:</text>\n",
       "<polyline fill=\"none\" points=\"143.5,-249.5 143.5,-295.5 \" stroke=\"#000000\"/>\n",
       "<text fill=\"#000000\" font-family=\"Times,serif\" font-size=\"14.00\" text-anchor=\"middle\" x=\"187.5\" y=\"-280.3\">(None, 2, 1, 512)</text>\n",
       "<polyline fill=\"none\" points=\"143.5,-272.5 231.5,-272.5 \" stroke=\"#000000\"/>\n",
       "<text fill=\"#000000\" font-family=\"Times,serif\" font-size=\"14.00\" text-anchor=\"middle\" x=\"187.5\" y=\"-257.3\">(None, 1024)</text>\n",
       "</g>\n",
       "<!-- 112661996496&#45;&gt;112661996432 -->\n",
       "<g class=\"edge\" id=\"edge1\">\n",
       "<title>112661996496-&gt;112661996432</title>\n",
       "<path d=\"M118,-332.3799C118,-324.1745 118,-314.7679 118,-305.8786\" fill=\"none\" stroke=\"#000000\"/>\n",
       "<polygon fill=\"#000000\" points=\"121.5001,-305.784 118,-295.784 114.5001,-305.784 121.5001,-305.784\" stroke=\"#000000\"/>\n",
       "</g>\n",
       "<!-- 112661996624 -->\n",
       "<g class=\"node\" id=\"node3\">\n",
       "<title>112661996624</title>\n",
       "<polygon fill=\"none\" points=\"15,-166.5 15,-212.5 221,-212.5 221,-166.5 15,-166.5\" stroke=\"#000000\"/>\n",
       "<text fill=\"#000000\" font-family=\"Times,serif\" font-size=\"14.00\" text-anchor=\"middle\" x=\"59\" y=\"-185.8\">dense_46: Dense</text>\n",
       "<polyline fill=\"none\" points=\"103,-166.5 103,-212.5 \" stroke=\"#000000\"/>\n",
       "<text fill=\"#000000\" font-family=\"Times,serif\" font-size=\"14.00\" text-anchor=\"middle\" x=\"126\" y=\"-197.3\">input:</text>\n",
       "<polyline fill=\"none\" points=\"103,-189.5 149,-189.5 \" stroke=\"#000000\"/>\n",
       "<text fill=\"#000000\" font-family=\"Times,serif\" font-size=\"14.00\" text-anchor=\"middle\" x=\"126\" y=\"-174.3\">output:</text>\n",
       "<polyline fill=\"none\" points=\"149,-166.5 149,-212.5 \" stroke=\"#000000\"/>\n",
       "<text fill=\"#000000\" font-family=\"Times,serif\" font-size=\"14.00\" text-anchor=\"middle\" x=\"185\" y=\"-197.3\">(None, 1024)</text>\n",
       "<polyline fill=\"none\" points=\"149,-189.5 221,-189.5 \" stroke=\"#000000\"/>\n",
       "<text fill=\"#000000\" font-family=\"Times,serif\" font-size=\"14.00\" text-anchor=\"middle\" x=\"185\" y=\"-174.3\">(None, 256)</text>\n",
       "</g>\n",
       "<!-- 112661996432&#45;&gt;112661996624 -->\n",
       "<g class=\"edge\" id=\"edge2\">\n",
       "<title>112661996432-&gt;112661996624</title>\n",
       "<path d=\"M118,-249.3799C118,-241.1745 118,-231.7679 118,-222.8786\" fill=\"none\" stroke=\"#000000\"/>\n",
       "<polygon fill=\"#000000\" points=\"121.5001,-222.784 118,-212.784 114.5001,-222.784 121.5001,-222.784\" stroke=\"#000000\"/>\n",
       "</g>\n",
       "<!-- 112661997008 -->\n",
       "<g class=\"node\" id=\"node4\">\n",
       "<title>112661997008</title>\n",
       "<polygon fill=\"none\" points=\"17.5,-83.5 17.5,-129.5 218.5,-129.5 218.5,-83.5 17.5,-83.5\" stroke=\"#000000\"/>\n",
       "<text fill=\"#000000\" font-family=\"Times,serif\" font-size=\"14.00\" text-anchor=\"middle\" x=\"61.5\" y=\"-102.8\">dense_47: Dense</text>\n",
       "<polyline fill=\"none\" points=\"105.5,-83.5 105.5,-129.5 \" stroke=\"#000000\"/>\n",
       "<text fill=\"#000000\" font-family=\"Times,serif\" font-size=\"14.00\" text-anchor=\"middle\" x=\"128.5\" y=\"-114.3\">input:</text>\n",
       "<polyline fill=\"none\" points=\"105.5,-106.5 151.5,-106.5 \" stroke=\"#000000\"/>\n",
       "<text fill=\"#000000\" font-family=\"Times,serif\" font-size=\"14.00\" text-anchor=\"middle\" x=\"128.5\" y=\"-91.3\">output:</text>\n",
       "<polyline fill=\"none\" points=\"151.5,-83.5 151.5,-129.5 \" stroke=\"#000000\"/>\n",
       "<text fill=\"#000000\" font-family=\"Times,serif\" font-size=\"14.00\" text-anchor=\"middle\" x=\"185\" y=\"-114.3\">(None, 256)</text>\n",
       "<polyline fill=\"none\" points=\"151.5,-106.5 218.5,-106.5 \" stroke=\"#000000\"/>\n",
       "<text fill=\"#000000\" font-family=\"Times,serif\" font-size=\"14.00\" text-anchor=\"middle\" x=\"185\" y=\"-91.3\">(None, 64)</text>\n",
       "</g>\n",
       "<!-- 112661996624&#45;&gt;112661997008 -->\n",
       "<g class=\"edge\" id=\"edge3\">\n",
       "<title>112661996624-&gt;112661997008</title>\n",
       "<path d=\"M118,-166.3799C118,-158.1745 118,-148.7679 118,-139.8786\" fill=\"none\" stroke=\"#000000\"/>\n",
       "<polygon fill=\"#000000\" points=\"121.5001,-139.784 118,-129.784 114.5001,-139.784 121.5001,-139.784\" stroke=\"#000000\"/>\n",
       "</g>\n",
       "<!-- 112661997456 -->\n",
       "<g class=\"node\" id=\"node5\">\n",
       "<title>112661997456</title>\n",
       "<polygon fill=\"none\" points=\"20,-.5 20,-46.5 216,-46.5 216,-.5 20,-.5\" stroke=\"#000000\"/>\n",
       "<text fill=\"#000000\" font-family=\"Times,serif\" font-size=\"14.00\" text-anchor=\"middle\" x=\"64\" y=\"-19.8\">dense_48: Dense</text>\n",
       "<polyline fill=\"none\" points=\"108,-.5 108,-46.5 \" stroke=\"#000000\"/>\n",
       "<text fill=\"#000000\" font-family=\"Times,serif\" font-size=\"14.00\" text-anchor=\"middle\" x=\"131\" y=\"-31.3\">input:</text>\n",
       "<polyline fill=\"none\" points=\"108,-23.5 154,-23.5 \" stroke=\"#000000\"/>\n",
       "<text fill=\"#000000\" font-family=\"Times,serif\" font-size=\"14.00\" text-anchor=\"middle\" x=\"131\" y=\"-8.3\">output:</text>\n",
       "<polyline fill=\"none\" points=\"154,-.5 154,-46.5 \" stroke=\"#000000\"/>\n",
       "<text fill=\"#000000\" font-family=\"Times,serif\" font-size=\"14.00\" text-anchor=\"middle\" x=\"185\" y=\"-31.3\">(None, 64)</text>\n",
       "<polyline fill=\"none\" points=\"154,-23.5 216,-23.5 \" stroke=\"#000000\"/>\n",
       "<text fill=\"#000000\" font-family=\"Times,serif\" font-size=\"14.00\" text-anchor=\"middle\" x=\"185\" y=\"-8.3\">(None, 24)</text>\n",
       "</g>\n",
       "<!-- 112661997008&#45;&gt;112661997456 -->\n",
       "<g class=\"edge\" id=\"edge4\">\n",
       "<title>112661997008-&gt;112661997456</title>\n",
       "<path d=\"M118,-83.3799C118,-75.1745 118,-65.7679 118,-56.8786\" fill=\"none\" stroke=\"#000000\"/>\n",
       "<polygon fill=\"#000000\" points=\"121.5001,-56.784 118,-46.784 114.5001,-56.784 121.5001,-56.784\" stroke=\"#000000\"/>\n",
       "</g>\n",
       "</g>\n",
       "</svg>"
      ],
      "text/plain": [
       "<IPython.core.display.SVG object>"
      ]
     },
     "execution_count": 111,
     "metadata": {},
     "output_type": "execute_result"
    }
   ],
   "source": [
    "SVG(model_to_dot(modelColor,show_layer_names=True,show_shapes=True).create(prog='dot', format='svg'))"
   ]
  },
  {
   "cell_type": "code",
   "execution_count": 112,
   "metadata": {},
   "outputs": [],
   "source": [
    "adam = Adam(lr=0.001)\n",
    "modelColor.compile(optimizer = adam,loss='categorical_crossentropy',metrics=['accuracy'])\n",
    "checkpointColor = ModelCheckpoint('Color-{epoch:02d}-{val_acc:.2f}.hdf5',monitor='val_acc',verbose=1,save_best_only=False,save_weights_only=True,mode='auto',period=2)\n",
    "earlystopColor = EarlyStopping(monitor='val_acc',min_delta=0,patience=20,verbose=1,mode='auto')\n",
    "TrainingEpochsColor=100\n",
    "batch_sizeColor=50\n",
    "trColor=colorGenerator(Index_train,batch_sizeColor)\n",
    "vlColor=colorGenerator(Index_validation,batch_sizeColor)"
   ]
  },
  {
   "cell_type": "code",
   "execution_count": 113,
   "metadata": {},
   "outputs": [
    {
     "data": {
      "image/png": "[encoded data removed]",
      "text/plain": [
       "<Figure size 864x576 with 2 Axes>"
      ]
     },
     "metadata": {},
     "output_type": "display_data"
    },
    {
     "name": "stdout",
     "output_type": "stream",
     "text": [
      "Epoch 26/100\n",
      " 16/111 [===>..........................] - ETA: 1:18 - loss: 8.3705 - acc: 0.1475"
     ]
    },
    {
     "ename": "KeyboardInterrupt",
     "evalue": "",
     "output_type": "error",
     "traceback": [
      "\u001b[0;31m---------------------------------------------------------------------------\u001b[0m",
      "\u001b[0;31mKeyboardInterrupt\u001b[0m                         Traceback (most recent call last)",
      "\u001b[0;32m<ipython-input-113-8083d5b2ddfb>\u001b[0m in \u001b[0;36m<module>\u001b[0;34m()\u001b[0m\n\u001b[1;32m      1\u001b[0m \u001b[0mnp\u001b[0m\u001b[0;34m.\u001b[0m\u001b[0mrandom\u001b[0m\u001b[0;34m.\u001b[0m\u001b[0mseed\u001b[0m\u001b[0;34m(\u001b[0m\u001b[0;36m123\u001b[0m\u001b[0;34m)\u001b[0m\u001b[0;34m\u001b[0m\u001b[0m\n\u001b[1;32m      2\u001b[0m \u001b[0mtf\u001b[0m\u001b[0;34m.\u001b[0m\u001b[0mset_random_seed\u001b[0m\u001b[0;34m(\u001b[0m\u001b[0;36m123\u001b[0m\u001b[0;34m)\u001b[0m\u001b[0;34m\u001b[0m\u001b[0m\n\u001b[0;32m----> 3\u001b[0;31m \u001b[0mmodelColor\u001b[0m\u001b[0;34m.\u001b[0m\u001b[0mfit_generator\u001b[0m\u001b[0;34m(\u001b[0m\u001b[0mtrColor\u001b[0m\u001b[0;34m,\u001b[0m\u001b[0msteps_per_epoch\u001b[0m\u001b[0;34m=\u001b[0m\u001b[0;34m-\u001b[0m\u001b[0;34m(\u001b[0m\u001b[0;34m-\u001b[0m\u001b[0mlen\u001b[0m\u001b[0;34m(\u001b[0m\u001b[0mIndex_train\u001b[0m\u001b[0;34m)\u001b[0m\u001b[0;34m/\u001b[0m\u001b[0mbatch_sizeColor\u001b[0m\u001b[0;34m)\u001b[0m\u001b[0;34m,\u001b[0m\u001b[0mepochs\u001b[0m\u001b[0;34m=\u001b[0m\u001b[0mTrainingEpochsColor\u001b[0m\u001b[0;34m,\u001b[0m\u001b[0mverbose\u001b[0m\u001b[0;34m=\u001b[0m\u001b[0;36m1\u001b[0m\u001b[0;34m,\u001b[0m\u001b[0mvalidation_data\u001b[0m\u001b[0;34m=\u001b[0m\u001b[0mvlColor\u001b[0m\u001b[0;34m,\u001b[0m\u001b[0mvalidation_steps\u001b[0m\u001b[0;34m=\u001b[0m\u001b[0;34m-\u001b[0m\u001b[0;34m(\u001b[0m\u001b[0;34m-\u001b[0m\u001b[0mlen\u001b[0m\u001b[0;34m(\u001b[0m\u001b[0mIndex_validation\u001b[0m\u001b[0;34m)\u001b[0m\u001b[0;34m/\u001b[0m\u001b[0mbatch_sizeColor\u001b[0m\u001b[0;34m)\u001b[0m\u001b[0;34m,\u001b[0m\u001b[0mcallbacks\u001b[0m\u001b[0;34m=\u001b[0m\u001b[0;34m[\u001b[0m\u001b[0mPlotLossesKeras\u001b[0m\u001b[0;34m(\u001b[0m\u001b[0;34m)\u001b[0m\u001b[0;34m,\u001b[0m\u001b[0mcheckpointColor\u001b[0m\u001b[0;34m,\u001b[0m\u001b[0mearlystopColor\u001b[0m\u001b[0;34m]\u001b[0m\u001b[0;34m)\u001b[0m\u001b[0;34m\u001b[0m\u001b[0m\n\u001b[0m",
      "\u001b[0;32m/Users/germancarvajal/anaconda3/lib/python2.7/site-packages/keras/legacy/interfaces.pyc\u001b[0m in \u001b[0;36mwrapper\u001b[0;34m(*args, **kwargs)\u001b[0m\n\u001b[1;32m     89\u001b[0m                 warnings.warn('Update your `' + object_name +\n\u001b[1;32m     90\u001b[0m                               '` call to the Keras 2 API: ' + signature, stacklevel=2)\n\u001b[0;32m---> 91\u001b[0;31m             \u001b[0;32mreturn\u001b[0m \u001b[0mfunc\u001b[0m\u001b[0;34m(\u001b[0m\u001b[0;34m*\u001b[0m\u001b[0margs\u001b[0m\u001b[0;34m,\u001b[0m \u001b[0;34m**\u001b[0m\u001b[0mkwargs\u001b[0m\u001b[0;34m)\u001b[0m\u001b[0;34m\u001b[0m\u001b[0m\n\u001b[0m\u001b[1;32m     92\u001b[0m         \u001b[0mwrapper\u001b[0m\u001b[0;34m.\u001b[0m\u001b[0m_original_function\u001b[0m \u001b[0;34m=\u001b[0m \u001b[0mfunc\u001b[0m\u001b[0;34m\u001b[0m\u001b[0m\n\u001b[1;32m     93\u001b[0m         \u001b[0;32mreturn\u001b[0m \u001b[0mwrapper\u001b[0m\u001b[0;34m\u001b[0m\u001b[0m\n",
      "\u001b[0;32m/Users/germancarvajal/anaconda3/lib/python2.7/site-packages/keras/engine/training.pyc\u001b[0m in \u001b[0;36mfit_generator\u001b[0;34m(self, generator, steps_per_epoch, epochs, verbose, callbacks, validation_data, validation_steps, class_weight, max_queue_size, workers, use_multiprocessing, shuffle, initial_epoch)\u001b[0m\n\u001b[1;32m   1424\u001b[0m             \u001b[0muse_multiprocessing\u001b[0m\u001b[0;34m=\u001b[0m\u001b[0muse_multiprocessing\u001b[0m\u001b[0;34m,\u001b[0m\u001b[0;34m\u001b[0m\u001b[0m\n\u001b[1;32m   1425\u001b[0m             \u001b[0mshuffle\u001b[0m\u001b[0;34m=\u001b[0m\u001b[0mshuffle\u001b[0m\u001b[0;34m,\u001b[0m\u001b[0;34m\u001b[0m\u001b[0m\n\u001b[0;32m-> 1426\u001b[0;31m             initial_epoch=initial_epoch)\n\u001b[0m\u001b[1;32m   1427\u001b[0m \u001b[0;34m\u001b[0m\u001b[0m\n\u001b[1;32m   1428\u001b[0m     \u001b[0;34m@\u001b[0m\u001b[0minterfaces\u001b[0m\u001b[0;34m.\u001b[0m\u001b[0mlegacy_generator_methods_support\u001b[0m\u001b[0;34m\u001b[0m\u001b[0m\n",
      "\u001b[0;32m/Users/germancarvajal/anaconda3/lib/python2.7/site-packages/keras/engine/training_generator.pyc\u001b[0m in \u001b[0;36mfit_generator\u001b[0;34m(model, generator, steps_per_epoch, epochs, verbose, callbacks, validation_data, validation_steps, class_weight, max_queue_size, workers, use_multiprocessing, shuffle, initial_epoch)\u001b[0m\n\u001b[1;32m    153\u001b[0m             \u001b[0mbatch_index\u001b[0m \u001b[0;34m=\u001b[0m \u001b[0;36m0\u001b[0m\u001b[0;34m\u001b[0m\u001b[0m\n\u001b[1;32m    154\u001b[0m             \u001b[0;32mwhile\u001b[0m \u001b[0msteps_done\u001b[0m \u001b[0;34m<\u001b[0m \u001b[0msteps_per_epoch\u001b[0m\u001b[0;34m:\u001b[0m\u001b[0;34m\u001b[0m\u001b[0m\n\u001b[0;32m--> 155\u001b[0;31m                 \u001b[0mgenerator_output\u001b[0m \u001b[0;34m=\u001b[0m \u001b[0mnext\u001b[0m\u001b[0;34m(\u001b[0m\u001b[0moutput_generator\u001b[0m\u001b[0;34m)\u001b[0m\u001b[0;34m\u001b[0m\u001b[0m\n\u001b[0m\u001b[1;32m    156\u001b[0m \u001b[0;34m\u001b[0m\u001b[0m\n\u001b[1;32m    157\u001b[0m                 \u001b[0;32mif\u001b[0m \u001b[0;32mnot\u001b[0m \u001b[0mhasattr\u001b[0m\u001b[0;34m(\u001b[0m\u001b[0mgenerator_output\u001b[0m\u001b[0;34m,\u001b[0m \u001b[0;34m'__len__'\u001b[0m\u001b[0;34m)\u001b[0m\u001b[0;34m:\u001b[0m\u001b[0;34m\u001b[0m\u001b[0m\n",
      "\u001b[0;32m/Users/germancarvajal/anaconda3/lib/python2.7/site-packages/keras/utils/data_utils.pyc\u001b[0m in \u001b[0;36mget\u001b[0;34m(self)\u001b[0m\n\u001b[1;32m    785\u001b[0m                     \u001b[0;32mraise\u001b[0m \u001b[0mStopIteration\u001b[0m\u001b[0;34m(\u001b[0m\u001b[0;34m)\u001b[0m\u001b[0;34m\u001b[0m\u001b[0m\n\u001b[1;32m    786\u001b[0m                 \u001b[0;32melse\u001b[0m\u001b[0;34m:\u001b[0m\u001b[0;34m\u001b[0m\u001b[0m\n\u001b[0;32m--> 787\u001b[0;31m                     \u001b[0mtime\u001b[0m\u001b[0;34m.\u001b[0m\u001b[0msleep\u001b[0m\u001b[0;34m(\u001b[0m\u001b[0mself\u001b[0m\u001b[0;34m.\u001b[0m\u001b[0mwait_time\u001b[0m\u001b[0;34m)\u001b[0m\u001b[0;34m\u001b[0m\u001b[0m\n\u001b[0m\u001b[1;32m    788\u001b[0m \u001b[0;34m\u001b[0m\u001b[0m\n\u001b[1;32m    789\u001b[0m         \u001b[0;31m# Make sure to rethrow the first exception in the queue, if any\u001b[0m\u001b[0;34m\u001b[0m\u001b[0;34m\u001b[0m\u001b[0m\n",
      "\u001b[0;31mKeyboardInterrupt\u001b[0m: "
     ]
    }
   ],
   "source": [
    "np.random.seed(123)\n",
    "tf.set_random_seed(123)\n",
    "modelColor.fit_generator(trColor,steps_per_epoch=-(-len(Index_train)/batch_sizeColor),epochs=TrainingEpochsColor,verbose=1,validation_data=vlColor,validation_steps=-(-len(Index_validation)/batch_sizeColor),callbacks=[PlotLossesKeras(),checkpointColor,earlystopColor])"
   ]
  },
  {
   "cell_type": "code",
   "execution_count": 114,
   "metadata": {},
   "outputs": [
    {
     "name": "stdout",
     "output_type": "stream",
     "text": [
      "16/16 [==============================] - 37s 2s/step\n"
     ]
    }
   ],
   "source": [
    "tsColor=colorGenerator(Index_test,batch_sizeColor)\n",
    "Y_predColor=modelColor.predict_generator(tsColor,steps=-(-len(Index_test)/batch_sizeColor),verbose=1)"
   ]
  },
  {
   "cell_type": "code",
   "execution_count": 115,
   "metadata": {
    "scrolled": false
   },
   "outputs": [
    {
     "data": {
      "text/plain": [
       "0.51695628001611127"
      ]
     },
     "execution_count": 115,
     "metadata": {},
     "output_type": "execute_result"
    }
   ],
   "source": [
    "roc_auc_score(Y[Index_test],Y_predColor,average='macro')"
   ]
  },
  {
   "cell_type": "code",
   "execution_count": 122,
   "metadata": {},
   "outputs": [
    {
     "name": "stdout",
     "output_type": "stream",
     "text": [
      "__________________________________________________________________________________________________\n",
      "Layer (type)                    Output Shape         Param #     Connected to                     \n",
      "==================================================================================================\n",
      "input_14 (InputLayer)           (None, 24)           0                                            \n",
      "__________________________________________________________________________________________________\n",
      "input_15 (InputLayer)           (None, 24)           0                                            \n",
      "__________________________________________________________________________________________________\n",
      "input_16 (InputLayer)           (None, 24)           0                                            \n",
      "__________________________________________________________________________________________________\n",
      "concatenate_4 (Concatenate)     (None, 72)           0           input_14[0][0]                   \n",
      "                                                                 input_15[0][0]                   \n",
      "                                                                 input_16[0][0]                   \n",
      "__________________________________________________________________________________________________\n",
      "dense_58 (Dense)                (None, 32)           2336        concatenate_4[0][0]              \n",
      "__________________________________________________________________________________________________\n",
      "dense_59 (Dense)                (None, 10)           330         dense_58[0][0]                   \n",
      "__________________________________________________________________________________________________\n",
      "dense_60 (Dense)                (None, 24)           264         dense_59[0][0]                   \n",
      "==================================================================================================\n",
      "Total params: 2,930\n",
      "Trainable params: 2,930\n",
      "Non-trainable params: 0\n",
      "__________________________________________________________________________________________________\n"
     ]
    }
   ],
   "source": [
    "Input1=Input(shape=(24,))\n",
    "Input2=Input(shape=(24,))\n",
    "Input3=Input(shape=(24,))\n",
    "merge=concatenate([Input1,Input2,Input3])\n",
    "d1=Dense(32,activation='relu')(merge)\n",
    "d2=Dense(10,activation='relu')(d1)\n",
    "output=Dense(Y.shape[1],activation='sigmoid')(d2)\n",
    "model=Model(inputs=[Input1,Input2,Input3],outputs=output)\n",
    "model.summary()"
   ]
  },
  {
   "cell_type": "code",
   "execution_count": 123,
   "metadata": {
    "scrolled": true
   },
   "outputs": [
    {
     "data": {
      "image/svg+xml": [
       "<svg height=\"387pt\" viewBox=\"0.00 0.00 686.00 387.00\" width=\"686pt\" xmlns=\"http://www.w3.org/2000/svg\" xmlns:xlink=\"http://www.w3.org/1999/xlink\">\n",
       "<g class=\"graph\" id=\"graph0\" transform=\"scale(1 1) rotate(0) translate(4 383)\">\n",
       "<title>G</title>\n",
       "<polygon fill=\"#ffffff\" points=\"-4,4 -4,-383 682,-383 682,4 -4,4\" stroke=\"transparent\"/>\n",
       "<!-- 112730043280 -->\n",
       "<g class=\"node\" id=\"node1\">\n",
       "<title>112730043280</title>\n",
       "<polygon fill=\"none\" points=\"0,-332.5 0,-378.5 214,-378.5 214,-332.5 0,-332.5\" stroke=\"#000000\"/>\n",
       "<text fill=\"#000000\" font-family=\"Times,serif\" font-size=\"14.00\" text-anchor=\"middle\" x=\"53\" y=\"-351.8\">input_14: InputLayer</text>\n",
       "<polyline fill=\"none\" points=\"106,-332.5 106,-378.5 \" stroke=\"#000000\"/>\n",
       "<text fill=\"#000000\" font-family=\"Times,serif\" font-size=\"14.00\" text-anchor=\"middle\" x=\"129\" y=\"-363.3\">input:</text>\n",
       "<polyline fill=\"none\" points=\"106,-355.5 152,-355.5 \" stroke=\"#000000\"/>\n",
       "<text fill=\"#000000\" font-family=\"Times,serif\" font-size=\"14.00\" text-anchor=\"middle\" x=\"129\" y=\"-340.3\">output:</text>\n",
       "<polyline fill=\"none\" points=\"152,-332.5 152,-378.5 \" stroke=\"#000000\"/>\n",
       "<text fill=\"#000000\" font-family=\"Times,serif\" font-size=\"14.00\" text-anchor=\"middle\" x=\"183\" y=\"-363.3\">(None, 24)</text>\n",
       "<polyline fill=\"none\" points=\"152,-355.5 214,-355.5 \" stroke=\"#000000\"/>\n",
       "<text fill=\"#000000\" font-family=\"Times,serif\" font-size=\"14.00\" text-anchor=\"middle\" x=\"183\" y=\"-340.3\">(None, 24)</text>\n",
       "</g>\n",
       "<!-- 112730125648 -->\n",
       "<g class=\"node\" id=\"node4\">\n",
       "<title>112730125648</title>\n",
       "<polygon fill=\"none\" points=\"164,-249.5 164,-295.5 514,-295.5 514,-249.5 164,-249.5\" stroke=\"#000000\"/>\n",
       "<text fill=\"#000000\" font-family=\"Times,serif\" font-size=\"14.00\" text-anchor=\"middle\" x=\"231\" y=\"-268.8\">concatenate_4: Concatenate</text>\n",
       "<polyline fill=\"none\" points=\"298,-249.5 298,-295.5 \" stroke=\"#000000\"/>\n",
       "<text fill=\"#000000\" font-family=\"Times,serif\" font-size=\"14.00\" text-anchor=\"middle\" x=\"321\" y=\"-280.3\">input:</text>\n",
       "<polyline fill=\"none\" points=\"298,-272.5 344,-272.5 \" stroke=\"#000000\"/>\n",
       "<text fill=\"#000000\" font-family=\"Times,serif\" font-size=\"14.00\" text-anchor=\"middle\" x=\"321\" y=\"-257.3\">output:</text>\n",
       "<polyline fill=\"none\" points=\"344,-249.5 344,-295.5 \" stroke=\"#000000\"/>\n",
       "<text fill=\"#000000\" font-family=\"Times,serif\" font-size=\"14.00\" text-anchor=\"middle\" x=\"429\" y=\"-280.3\">[(None, 24), (None, 24), (None, 24)]</text>\n",
       "<polyline fill=\"none\" points=\"344,-272.5 514,-272.5 \" stroke=\"#000000\"/>\n",
       "<text fill=\"#000000\" font-family=\"Times,serif\" font-size=\"14.00\" text-anchor=\"middle\" x=\"429\" y=\"-257.3\">(None, 72)</text>\n",
       "</g>\n",
       "<!-- 112730043280&#45;&gt;112730125648 -->\n",
       "<g class=\"edge\" id=\"edge1\">\n",
       "<title>112730043280-&gt;112730125648</title>\n",
       "<path d=\"M171.3168,-332.4901C200.3579,-322.1004 234.8314,-309.7672 264.9461,-298.9934\" fill=\"none\" stroke=\"#000000\"/>\n",
       "<polygon fill=\"#000000\" points=\"266.3215,-302.2187 274.558,-295.5547 263.9635,-295.6278 266.3215,-302.2187\" stroke=\"#000000\"/>\n",
       "</g>\n",
       "<!-- 112730043920 -->\n",
       "<g class=\"node\" id=\"node2\">\n",
       "<title>112730043920</title>\n",
       "<polygon fill=\"none\" points=\"232,-332.5 232,-378.5 446,-378.5 446,-332.5 232,-332.5\" stroke=\"#000000\"/>\n",
       "<text fill=\"#000000\" font-family=\"Times,serif\" font-size=\"14.00\" text-anchor=\"middle\" x=\"285\" y=\"-351.8\">input_15: InputLayer</text>\n",
       "<polyline fill=\"none\" points=\"338,-332.5 338,-378.5 \" stroke=\"#000000\"/>\n",
       "<text fill=\"#000000\" font-family=\"Times,serif\" font-size=\"14.00\" text-anchor=\"middle\" x=\"361\" y=\"-363.3\">input:</text>\n",
       "<polyline fill=\"none\" points=\"338,-355.5 384,-355.5 \" stroke=\"#000000\"/>\n",
       "<text fill=\"#000000\" font-family=\"Times,serif\" font-size=\"14.00\" text-anchor=\"middle\" x=\"361\" y=\"-340.3\">output:</text>\n",
       "<polyline fill=\"none\" points=\"384,-332.5 384,-378.5 \" stroke=\"#000000\"/>\n",
       "<text fill=\"#000000\" font-family=\"Times,serif\" font-size=\"14.00\" text-anchor=\"middle\" x=\"415\" y=\"-363.3\">(None, 24)</text>\n",
       "<polyline fill=\"none\" points=\"384,-355.5 446,-355.5 \" stroke=\"#000000\"/>\n",
       "<text fill=\"#000000\" font-family=\"Times,serif\" font-size=\"14.00\" text-anchor=\"middle\" x=\"415\" y=\"-340.3\">(None, 24)</text>\n",
       "</g>\n",
       "<!-- 112730043920&#45;&gt;112730125648 -->\n",
       "<g class=\"edge\" id=\"edge2\">\n",
       "<title>112730043920-&gt;112730125648</title>\n",
       "<path d=\"M339,-332.3799C339,-324.1745 339,-314.7679 339,-305.8786\" fill=\"none\" stroke=\"#000000\"/>\n",
       "<polygon fill=\"#000000\" points=\"342.5001,-305.784 339,-295.784 335.5001,-305.784 342.5001,-305.784\" stroke=\"#000000\"/>\n",
       "</g>\n",
       "<!-- 112730126096 -->\n",
       "<g class=\"node\" id=\"node3\">\n",
       "<title>112730126096</title>\n",
       "<polygon fill=\"none\" points=\"464,-332.5 464,-378.5 678,-378.5 678,-332.5 464,-332.5\" stroke=\"#000000\"/>\n",
       "<text fill=\"#000000\" font-family=\"Times,serif\" font-size=\"14.00\" text-anchor=\"middle\" x=\"517\" y=\"-351.8\">input_16: InputLayer</text>\n",
       "<polyline fill=\"none\" points=\"570,-332.5 570,-378.5 \" stroke=\"#000000\"/>\n",
       "<text fill=\"#000000\" font-family=\"Times,serif\" font-size=\"14.00\" text-anchor=\"middle\" x=\"593\" y=\"-363.3\">input:</text>\n",
       "<polyline fill=\"none\" points=\"570,-355.5 616,-355.5 \" stroke=\"#000000\"/>\n",
       "<text fill=\"#000000\" font-family=\"Times,serif\" font-size=\"14.00\" text-anchor=\"middle\" x=\"593\" y=\"-340.3\">output:</text>\n",
       "<polyline fill=\"none\" points=\"616,-332.5 616,-378.5 \" stroke=\"#000000\"/>\n",
       "<text fill=\"#000000\" font-family=\"Times,serif\" font-size=\"14.00\" text-anchor=\"middle\" x=\"647\" y=\"-363.3\">(None, 24)</text>\n",
       "<polyline fill=\"none\" points=\"616,-355.5 678,-355.5 \" stroke=\"#000000\"/>\n",
       "<text fill=\"#000000\" font-family=\"Times,serif\" font-size=\"14.00\" text-anchor=\"middle\" x=\"647\" y=\"-340.3\">(None, 24)</text>\n",
       "</g>\n",
       "<!-- 112730126096&#45;&gt;112730125648 -->\n",
       "<g class=\"edge\" id=\"edge3\">\n",
       "<title>112730126096-&gt;112730125648</title>\n",
       "<path d=\"M506.6832,-332.4901C477.6421,-322.1004 443.1686,-309.7672 413.0539,-298.9934\" fill=\"none\" stroke=\"#000000\"/>\n",
       "<polygon fill=\"#000000\" points=\"414.0365,-295.6278 403.442,-295.5547 411.6785,-302.2187 414.0365,-295.6278\" stroke=\"#000000\"/>\n",
       "</g>\n",
       "<!-- 112730126480 -->\n",
       "<g class=\"node\" id=\"node5\">\n",
       "<title>112730126480</title>\n",
       "<polygon fill=\"none\" points=\"241,-166.5 241,-212.5 437,-212.5 437,-166.5 241,-166.5\" stroke=\"#000000\"/>\n",
       "<text fill=\"#000000\" font-family=\"Times,serif\" font-size=\"14.00\" text-anchor=\"middle\" x=\"285\" y=\"-185.8\">dense_58: Dense</text>\n",
       "<polyline fill=\"none\" points=\"329,-166.5 329,-212.5 \" stroke=\"#000000\"/>\n",
       "<text fill=\"#000000\" font-family=\"Times,serif\" font-size=\"14.00\" text-anchor=\"middle\" x=\"352\" y=\"-197.3\">input:</text>\n",
       "<polyline fill=\"none\" points=\"329,-189.5 375,-189.5 \" stroke=\"#000000\"/>\n",
       "<text fill=\"#000000\" font-family=\"Times,serif\" font-size=\"14.00\" text-anchor=\"middle\" x=\"352\" y=\"-174.3\">output:</text>\n",
       "<polyline fill=\"none\" points=\"375,-166.5 375,-212.5 \" stroke=\"#000000\"/>\n",
       "<text fill=\"#000000\" font-family=\"Times,serif\" font-size=\"14.00\" text-anchor=\"middle\" x=\"406\" y=\"-197.3\">(None, 72)</text>\n",
       "<polyline fill=\"none\" points=\"375,-189.5 437,-189.5 \" stroke=\"#000000\"/>\n",
       "<text fill=\"#000000\" font-family=\"Times,serif\" font-size=\"14.00\" text-anchor=\"middle\" x=\"406\" y=\"-174.3\">(None, 32)</text>\n",
       "</g>\n",
       "<!-- 112730125648&#45;&gt;112730126480 -->\n",
       "<g class=\"edge\" id=\"edge4\">\n",
       "<title>112730125648-&gt;112730126480</title>\n",
       "<path d=\"M339,-249.3799C339,-241.1745 339,-231.7679 339,-222.8786\" fill=\"none\" stroke=\"#000000\"/>\n",
       "<polygon fill=\"#000000\" points=\"342.5001,-222.784 339,-212.784 335.5001,-222.784 342.5001,-222.784\" stroke=\"#000000\"/>\n",
       "</g>\n",
       "<!-- 112730126544 -->\n",
       "<g class=\"node\" id=\"node6\">\n",
       "<title>112730126544</title>\n",
       "<polygon fill=\"none\" points=\"241,-83.5 241,-129.5 437,-129.5 437,-83.5 241,-83.5\" stroke=\"#000000\"/>\n",
       "<text fill=\"#000000\" font-family=\"Times,serif\" font-size=\"14.00\" text-anchor=\"middle\" x=\"285\" y=\"-102.8\">dense_59: Dense</text>\n",
       "<polyline fill=\"none\" points=\"329,-83.5 329,-129.5 \" stroke=\"#000000\"/>\n",
       "<text fill=\"#000000\" font-family=\"Times,serif\" font-size=\"14.00\" text-anchor=\"middle\" x=\"352\" y=\"-114.3\">input:</text>\n",
       "<polyline fill=\"none\" points=\"329,-106.5 375,-106.5 \" stroke=\"#000000\"/>\n",
       "<text fill=\"#000000\" font-family=\"Times,serif\" font-size=\"14.00\" text-anchor=\"middle\" x=\"352\" y=\"-91.3\">output:</text>\n",
       "<polyline fill=\"none\" points=\"375,-83.5 375,-129.5 \" stroke=\"#000000\"/>\n",
       "<text fill=\"#000000\" font-family=\"Times,serif\" font-size=\"14.00\" text-anchor=\"middle\" x=\"406\" y=\"-114.3\">(None, 32)</text>\n",
       "<polyline fill=\"none\" points=\"375,-106.5 437,-106.5 \" stroke=\"#000000\"/>\n",
       "<text fill=\"#000000\" font-family=\"Times,serif\" font-size=\"14.00\" text-anchor=\"middle\" x=\"406\" y=\"-91.3\">(None, 10)</text>\n",
       "</g>\n",
       "<!-- 112730126480&#45;&gt;112730126544 -->\n",
       "<g class=\"edge\" id=\"edge5\">\n",
       "<title>112730126480-&gt;112730126544</title>\n",
       "<path d=\"M339,-166.3799C339,-158.1745 339,-148.7679 339,-139.8786\" fill=\"none\" stroke=\"#000000\"/>\n",
       "<polygon fill=\"#000000\" points=\"342.5001,-139.784 339,-129.784 335.5001,-139.784 342.5001,-139.784\" stroke=\"#000000\"/>\n",
       "</g>\n",
       "<!-- 112730126800 -->\n",
       "<g class=\"node\" id=\"node7\">\n",
       "<title>112730126800</title>\n",
       "<polygon fill=\"none\" points=\"241,-.5 241,-46.5 437,-46.5 437,-.5 241,-.5\" stroke=\"#000000\"/>\n",
       "<text fill=\"#000000\" font-family=\"Times,serif\" font-size=\"14.00\" text-anchor=\"middle\" x=\"285\" y=\"-19.8\">dense_60: Dense</text>\n",
       "<polyline fill=\"none\" points=\"329,-.5 329,-46.5 \" stroke=\"#000000\"/>\n",
       "<text fill=\"#000000\" font-family=\"Times,serif\" font-size=\"14.00\" text-anchor=\"middle\" x=\"352\" y=\"-31.3\">input:</text>\n",
       "<polyline fill=\"none\" points=\"329,-23.5 375,-23.5 \" stroke=\"#000000\"/>\n",
       "<text fill=\"#000000\" font-family=\"Times,serif\" font-size=\"14.00\" text-anchor=\"middle\" x=\"352\" y=\"-8.3\">output:</text>\n",
       "<polyline fill=\"none\" points=\"375,-.5 375,-46.5 \" stroke=\"#000000\"/>\n",
       "<text fill=\"#000000\" font-family=\"Times,serif\" font-size=\"14.00\" text-anchor=\"middle\" x=\"406\" y=\"-31.3\">(None, 10)</text>\n",
       "<polyline fill=\"none\" points=\"375,-23.5 437,-23.5 \" stroke=\"#000000\"/>\n",
       "<text fill=\"#000000\" font-family=\"Times,serif\" font-size=\"14.00\" text-anchor=\"middle\" x=\"406\" y=\"-8.3\">(None, 24)</text>\n",
       "</g>\n",
       "<!-- 112730126544&#45;&gt;112730126800 -->\n",
       "<g class=\"edge\" id=\"edge6\">\n",
       "<title>112730126544-&gt;112730126800</title>\n",
       "<path d=\"M339,-83.3799C339,-75.1745 339,-65.7679 339,-56.8786\" fill=\"none\" stroke=\"#000000\"/>\n",
       "<polygon fill=\"#000000\" points=\"342.5001,-56.784 339,-46.784 335.5001,-56.784 342.5001,-56.784\" stroke=\"#000000\"/>\n",
       "</g>\n",
       "</g>\n",
       "</svg>"
      ],
      "text/plain": [
       "<IPython.core.display.SVG object>"
      ]
     },
     "execution_count": 123,
     "metadata": {},
     "output_type": "execute_result"
    }
   ],
   "source": [
    "SVG(model_to_dot(model,show_layer_names=True,show_shapes=True).create(prog='dot', format='svg'))"
   ]
  },
  {
   "cell_type": "code",
   "execution_count": 132,
   "metadata": {},
   "outputs": [],
   "source": [
    "adam = Adam(lr=0.001)\n",
    "model.compile(optimizer = adam,loss='categorical_crossentropy',metrics=['accuracy'])\n",
    "checkpoint = ModelCheckpoint('Model-{epoch:02d}-{val_acc:.2f}.hdf5',monitor='val_acc',verbose=1,save_best_only=False,save_weights_only=True,mode='auto',period=2)\n",
    "earlystop = EarlyStopping(monitor='val_acc',min_delta=0,patience=20,verbose=1,mode='auto')\n",
    "TrainingEpochs=100\n",
    "batch_size=50"
   ]
  },
  {
   "cell_type": "code",
   "execution_count": 134,
   "metadata": {},
   "outputs": [
    {
     "name": "stdout",
     "output_type": "stream",
     "text": [
      "5526/5526 [==============================] - 1s 198us/step\n",
      "111/111 [==============================] - 24s 220ms/step\n",
      "111/111 [==============================] - 227s 2s/step\n"
     ]
    }
   ],
   "source": [
    "Y_pred_txt_tr=modelTxt.predict(X_txt[Index_train],verbose=1)\n",
    "tsGray=grayGenerator(Index_train,batch_sizeGray)\n",
    "Y_predGray_tr=modelGray.predict_generator(tsGray,steps=-(-len(Index_train)/batch_sizeGray),verbose=1)\n",
    "tsColor=colorGenerator(Index_train,batch_sizeColor)\n",
    "Y_predColor_tr=modelColor.predict_generator(tsColor,steps=-(-len(Index_train)/batch_sizeColor),verbose=1)"
   ]
  },
  {
   "cell_type": "code",
   "execution_count": 147,
   "metadata": {},
   "outputs": [
    {
     "name": "stdout",
     "output_type": "stream",
     "text": [
      "1579/1579 [==============================] - 0s 87us/step\n",
      "32/32 [==============================] - 8s 256ms/step\n",
      "32/32 [==============================] - 72s 2s/step\n"
     ]
    }
   ],
   "source": [
    "Y_pred_txt_val=modelTxt.predict(X_txt[Index_validation],verbose=1)\n",
    "tsGray=grayGenerator(Index_validation,batch_sizeGray)\n",
    "Y_predGray_val=modelGray.predict_generator(tsGray,steps=-(-len(Index_validation)/batch_sizeGray),verbose=1)\n",
    "tsColor=colorGenerator(Index_validation,batch_sizeColor)\n",
    "Y_predColor_val=modelColor.predict_generator(tsColor,steps=-(-len(Index_validation)/batch_sizeColor),verbose=1)"
   ]
  },
  {
   "cell_type": "code",
   "execution_count": 148,
   "metadata": {
    "scrolled": false
   },
   "outputs": [
    {
     "data": {
      "image/png": "[encoded data removed]",
      "text/plain": [
       "<Figure size 864x576 with 2 Axes>"
      ]
     },
     "metadata": {},
     "output_type": "display_data"
    },
    {
     "name": "stdout",
     "output_type": "stream",
     "text": [
      "Epoch 00045: early stopping\n"
     ]
    },
    {
     "data": {
      "text/plain": [
       "<keras.callbacks.History at 0x1a43df2dd0>"
      ]
     },
     "execution_count": 148,
     "metadata": {},
     "output_type": "execute_result"
    }
   ],
   "source": [
    "np.random.seed(123)\n",
    "tf.set_random_seed(123)\n",
    "model.fit([Y_pred_txt_tr,Y_predGray_tr,Y_predColor_tr],Y[Index_train],epochs=TrainingEpochs,batch_size=batch_size,verbose=1,validation_data=([Y_pred_txt_val,Y_predGray_val,Y_predColor_val],Y[Index_validation]),callbacks=[PlotLossesKeras(),checkpoint,earlystop])"
   ]
  },
  {
   "cell_type": "code",
   "execution_count": 149,
   "metadata": {},
   "outputs": [
    {
     "data": {
      "text/plain": [
       "0.79786155447961715"
      ]
     },
     "execution_count": 149,
     "metadata": {},
     "output_type": "execute_result"
    }
   ],
   "source": [
    "roc_auc_score(Y[Index_test],model.predict([Y_pred_txt,Y_predGray,Y_predColor]),average='macro')"
   ]
  }
 ],
 "metadata": {
  "kernelspec": {
   "display_name": "Python 2",
   "language": "python",
   "name": "python2"
  },
  "language_info": {
   "codemirror_mode": {
    "name": "ipython",
    "version": 2
   },
   "file_extension": ".py",
   "mimetype": "text/x-python",
   "name": "python",
   "nbconvert_exporter": "python",
   "pygments_lexer": "ipython2",
   "version": "2.7.15"
  }
 },
 "nbformat": 4,
 "nbformat_minor": 2
}
